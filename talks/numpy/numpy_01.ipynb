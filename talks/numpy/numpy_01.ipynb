{
 "cells": [
  {
   "cell_type": "markdown",
   "metadata": {},
   "source": [
    "# Welcome to the Dark Art of Coding:\n",
    "## Introduction to Python\n",
    "numpy module, part I\n",
    "\n",
    "<img src='../../images/dark_art_logo.600px.png' width='300' style=\"float:right\">"
   ]
  },
  {
   "cell_type": "code",
   "execution_count": 4,
   "metadata": {},
   "outputs": [],
   "source": [
    "# Numpy is the fundamental package for scientific computing in Python.\n",
    "# It provides:\n",
    "#   a multidimensional array object\n",
    "#   a collection of functions that perform operations including:\n",
    "#       mathematical,\n",
    "#       logical, \n",
    "#       shape manipulation, \n",
    "#       sorting, \n",
    "#       selection, \n",
    "#       Fourier transforms, \n",
    "#       linear algebra, \n",
    "#       statistical \n",
    "#       etc."
   ]
  },
  {
   "cell_type": "code",
   "execution_count": 5,
   "metadata": {},
   "outputs": [],
   "source": [
    "# Several important items to note:\n",
    "#   NumPy arrays are a fixed size (note: Python's lists are not).\n",
    "#   Elements in a NumPy array are required to be the same type\n",
    "#   NumPy arrays execute vector mathematics/transforms without the need \n",
    "#        for 'for loops' resulting in a performance and efficiency improvement\n",
    "#   Most scientific/math libraries use NumPy under the hood.\n",
    "# "
   ]
  },
  {
   "cell_type": "markdown",
   "metadata": {},
   "source": [
    "# Simple array range\n",
    "---"
   ]
  },
  {
   "cell_type": "code",
   "execution_count": 6,
   "metadata": {},
   "outputs": [],
   "source": [
    "import numpy as np"
   ]
  },
  {
   "cell_type": "code",
   "execution_count": 7,
   "metadata": {},
   "outputs": [
    {
     "data": {
      "text/plain": [
       "array([ 0,  1,  2,  3,  4,  5,  6,  7,  8,  9, 10, 11, 12, 13, 14, 15, 16,\n",
       "       17, 18, 19, 20, 21, 22, 23, 24, 25, 26, 27, 28, 29, 30, 31, 32, 33,\n",
       "       34, 35, 36, 37, 38, 39, 40, 41])"
      ]
     },
     "execution_count": 7,
     "metadata": {},
     "output_type": "execute_result"
    }
   ],
   "source": [
    "a = np.arange(42)\n",
    "a"
   ]
  },
  {
   "cell_type": "markdown",
   "metadata": {},
   "source": [
    "## Shape manipulation"
   ]
  },
  {
   "cell_type": "code",
   "execution_count": 8,
   "metadata": {},
   "outputs": [
    {
     "data": {
      "text/plain": [
       "array([[ 0,  1,  2,  3,  4,  5,  6],\n",
       "       [ 7,  8,  9, 10, 11, 12, 13],\n",
       "       [14, 15, 16, 17, 18, 19, 20],\n",
       "       [21, 22, 23, 24, 25, 26, 27],\n",
       "       [28, 29, 30, 31, 32, 33, 34],\n",
       "       [35, 36, 37, 38, 39, 40, 41]])"
      ]
     },
     "execution_count": 8,
     "metadata": {},
     "output_type": "execute_result"
    }
   ],
   "source": [
    "a1 = a.reshape(6, 7)\n",
    "a1"
   ]
  },
  {
   "cell_type": "code",
   "execution_count": 9,
   "metadata": {},
   "outputs": [
    {
     "name": "stdout",
     "output_type": "stream",
     "text": [
      "number of dimenstions: 2\n",
      "shape of the array: (6, 7)\n",
      "size of the array: 42\n",
      "datatype: int64\n",
      "size in bytes of each element: 8\n",
      "type of object: <class 'numpy.ndarray'>\n"
     ]
    }
   ],
   "source": [
    "# With any given array, we can explore the various characteristics\n",
    "\n",
    "print('number of dimenstions:', a1.ndim)\n",
    "print('shape of the array:', a1.shape)\n",
    "print('size of the array:', a1.size)\n",
    "print('datatype:', a1.dtype)\n",
    "print('size in bytes of each element:', a1.itemsize)\n",
    "print('type of object:', type(a1))"
   ]
  },
  {
   "cell_type": "code",
   "execution_count": 10,
   "metadata": {},
   "outputs": [
    {
     "name": "stdout",
     "output_type": "stream",
     "text": [
      "float64\n"
     ]
    },
    {
     "data": {
      "text/plain": [
       "array([1. , 2.1, 3.2])"
      ]
     },
     "execution_count": 10,
     "metadata": {},
     "output_type": "execute_result"
    }
   ],
   "source": [
    "# numpy does a best guess approach to determining a suitable datatype\n",
    "#     when you create a new numpy array.\n",
    "\n",
    "f = np.array([1.0, 2.1, 3.2])\n",
    "print(f.dtype)\n",
    "f"
   ]
  },
  {
   "cell_type": "code",
   "execution_count": 11,
   "metadata": {},
   "outputs": [
    {
     "data": {
      "text/plain": [
       "array([[1. , 2.1, 3.2],\n",
       "       [4.3, 5.4, 6.5]])"
      ]
     },
     "execution_count": 11,
     "metadata": {},
     "output_type": "execute_result"
    }
   ],
   "source": [
    "# You can create multidimensional arrays manually...\n",
    "\n",
    "dim2 = np.array([[1.0, 2.1, 3.2], [4.3, 5.4, 6.5]])\n",
    "dim2"
   ]
  },
  {
   "cell_type": "code",
   "execution_count": 12,
   "metadata": {},
   "outputs": [
    {
     "data": {
      "text/plain": [
       "dtype('int8')"
      ]
     },
     "execution_count": 12,
     "metadata": {},
     "output_type": "execute_result"
    }
   ],
   "source": [
    "# You can prescribe the datatype manually\n",
    "\n",
    "i8 = np.array([[1, 2, 3], [7, 8, 9]], dtype='int8')\n",
    "i8.dtype"
   ]
  },
  {
   "cell_type": "code",
   "execution_count": 13,
   "metadata": {},
   "outputs": [
    {
     "data": {
      "text/plain": [
       "array([[0., 0., 0., 0., 0.],\n",
       "       [0., 0., 0., 0., 0.],\n",
       "       [0., 0., 0., 0., 0.],\n",
       "       [0., 0., 0., 0., 0.]])"
      ]
     },
     "execution_count": 13,
     "metadata": {},
     "output_type": "execute_result"
    }
   ],
   "source": [
    "# There a several predefined methods that allow you to create \n",
    "#     specialized OR commonly used arrays.\n",
    "\n",
    "# An array composed of all zeros:\n",
    "\n",
    "np.zeros((4,5))"
   ]
  },
  {
   "cell_type": "code",
   "execution_count": 14,
   "metadata": {},
   "outputs": [
    {
     "data": {
      "text/plain": [
       "array([[[1., 1., 1., 1., 1., 1., 1., 1., 1., 1., 1., 1.],\n",
       "        [1., 1., 1., 1., 1., 1., 1., 1., 1., 1., 1., 1.],\n",
       "        [1., 1., 1., 1., 1., 1., 1., 1., 1., 1., 1., 1.]],\n",
       "\n",
       "       [[1., 1., 1., 1., 1., 1., 1., 1., 1., 1., 1., 1.],\n",
       "        [1., 1., 1., 1., 1., 1., 1., 1., 1., 1., 1., 1.],\n",
       "        [1., 1., 1., 1., 1., 1., 1., 1., 1., 1., 1., 1.]]])"
      ]
     },
     "execution_count": 14,
     "metadata": {},
     "output_type": "execute_result"
    }
   ],
   "source": [
    "# An array composed of all ones:\n",
    "\n",
    "np.ones((2, 3, 12))"
   ]
  },
  {
   "cell_type": "code",
   "execution_count": 15,
   "metadata": {},
   "outputs": [
    {
     "data": {
      "text/plain": [
       "array([[2.68156159e+154, 2.68156159e+154, 5.92878775e-323],\n",
       "       [0.00000000e+000, 0.00000000e+000, 0.00000000e+000],\n",
       "       [0.00000000e+000, 0.00000000e+000, 0.00000000e+000],\n",
       "       [0.00000000e+000, 0.00000000e+000, 0.00000000e+000]])"
      ]
     },
     "execution_count": 15,
     "metadata": {},
     "output_type": "execute_result"
    }
   ],
   "source": [
    "# An empty array is not exactly empty...\n",
    "#     Each of the stored values varies widely and is somewhat random\n",
    "\n",
    "np.empty((4, 3))"
   ]
  },
  {
   "cell_type": "code",
   "execution_count": 16,
   "metadata": {},
   "outputs": [
    {
     "data": {
      "text/plain": [
       "array([[[6917529027641081856, 6917529027641081856],\n",
       "        [                 12,                   0],\n",
       "        [                  0,                   0]],\n",
       "\n",
       "       [[                  0,                   0],\n",
       "        [                  0,                   0],\n",
       "        [                  0,                   0]]])"
      ]
     },
     "execution_count": 16,
     "metadata": {},
     "output_type": "execute_result"
    }
   ],
   "source": [
    "np.empty((2, 3, 2), dtype=int)"
   ]
  },
  {
   "cell_type": "code",
   "execution_count": 17,
   "metadata": {},
   "outputs": [
    {
     "data": {
      "text/plain": [
       "array([ 2,  5,  8, 11, 14, 17])"
      ]
     },
     "execution_count": 17,
     "metadata": {},
     "output_type": "execute_result"
    }
   ],
   "source": [
    "# Much like Python ranges, numpy ranges can have\n",
    "#     starting points, ending points and increments\n",
    "\n",
    "np.arange(2, 20, 3)"
   ]
  },
  {
   "cell_type": "code",
   "execution_count": 18,
   "metadata": {},
   "outputs": [
    {
     "data": {
      "text/plain": [
       "array([2. , 2.3, 2.6, 2.9, 3.2, 3.5, 3.8, 4.1, 4.4, 4.7, 5. , 5.3, 5.6,\n",
       "       5.9, 6.2, 6.5, 6.8, 7.1, 7.4, 7.7, 8. , 8.3, 8.6, 8.9, 9.2, 9.5,\n",
       "       9.8])"
      ]
     },
     "execution_count": 18,
     "metadata": {},
     "output_type": "execute_result"
    }
   ],
   "source": [
    "# Unlike Python ranges, numpy aranges can increment by float values\n",
    "\n",
    "np.arange(2, 10, 0.3)"
   ]
  },
  {
   "cell_type": "code",
   "execution_count": 19,
   "metadata": {},
   "outputs": [
    {
     "data": {
      "text/plain": [
       "array([ 2.        ,  2.27586207,  2.55172414,  2.82758621,  3.10344828,\n",
       "        3.37931034,  3.65517241,  3.93103448,  4.20689655,  4.48275862,\n",
       "        4.75862069,  5.03448276,  5.31034483,  5.5862069 ,  5.86206897,\n",
       "        6.13793103,  6.4137931 ,  6.68965517,  6.96551724,  7.24137931,\n",
       "        7.51724138,  7.79310345,  8.06896552,  8.34482759,  8.62068966,\n",
       "        8.89655172,  9.17241379,  9.44827586,  9.72413793, 10.        ])"
      ]
     },
     "execution_count": 19,
     "metadata": {},
     "output_type": "execute_result"
    }
   ],
   "source": [
    "# It is also possible to create arrays with a set number of values\n",
    "#     and allow numpy to identify the values for us.\n",
    "\n",
    "np.linspace(2, 10, 30)"
   ]
  },
  {
   "cell_type": "code",
   "execution_count": 20,
   "metadata": {},
   "outputs": [
    {
     "name": "stdout",
     "output_type": "stream",
     "text": [
      "[ 7 13 42 99]\n"
     ]
    }
   ],
   "source": [
    "# When printing an array, the values will display slightly differently:\n",
    "\n",
    "i = np.array([7, 13, 42, 99])\n",
    "\n",
    "print(i)"
   ]
  },
  {
   "cell_type": "code",
   "execution_count": 21,
   "metadata": {},
   "outputs": [
    {
     "name": "stdout",
     "output_type": "stream",
     "text": [
      "[1. 1. 1. 1.]\n"
     ]
    }
   ],
   "source": [
    "j = np.ones(4)\n",
    "\n",
    "print(j)"
   ]
  },
  {
   "cell_type": "code",
   "execution_count": 22,
   "metadata": {},
   "outputs": [
    {
     "name": "stdout",
     "output_type": "stream",
     "text": [
      "[ 6. 12. 41. 98.]\n"
     ]
    }
   ],
   "source": [
    "# numpy arrays can be subtracted \n",
    "\n",
    "k = i - j\n",
    "print(k)"
   ]
  },
  {
   "cell_type": "code",
   "execution_count": 23,
   "metadata": {},
   "outputs": [
    {
     "name": "stdout",
     "output_type": "stream",
     "text": [
      "[  8.  14.  43. 100.]\n"
     ]
    }
   ],
   "source": [
    "# or added\n",
    "\n",
    "k2 = i + j\n",
    "print(k2)"
   ]
  },
  {
   "cell_type": "code",
   "execution_count": 24,
   "metadata": {},
   "outputs": [],
   "source": [
    "x = np.array([[3, 4],\n",
    "              [5, 6]])"
   ]
  },
  {
   "cell_type": "code",
   "execution_count": 25,
   "metadata": {},
   "outputs": [],
   "source": [
    "y = np.array([[7, 8],\n",
    "              [9, 0]])"
   ]
  },
  {
   "cell_type": "code",
   "execution_count": 26,
   "metadata": {},
   "outputs": [
    {
     "name": "stdout",
     "output_type": "stream",
     "text": [
      "[[21 32]\n",
      " [45  0]]\n"
     ]
    }
   ],
   "source": [
    "# Addition of multidimensional arrays works just as \n",
    "#     expected:\n",
    "\n",
    "print(x * y)"
   ]
  },
  {
   "cell_type": "code",
   "execution_count": 27,
   "metadata": {},
   "outputs": [
    {
     "data": {
      "text/plain": [
       "array([ 90.28,  94.27, 101.75,  94.27,  99.26])"
      ]
     },
     "execution_count": 27,
     "metadata": {},
     "output_type": "execute_result"
    }
   ],
   "source": [
    "# matrix multiplication is also simple and convenient:\n",
    "\n",
    "prices = np.array([3.49, 4.49, 3.99])\n",
    "\n",
    "sales = np.array([[5, 6, 7, 6, 5],\n",
    "                  [10, 11, 11, 11, 12],\n",
    "                  [7, 6, 7, 6, 7]])\n",
    "\n",
    "prices.dot(sales)\n",
    "\n",
    "# output 1:  3.49 * 5 + 4.49 * 10 + 3.99 * 7 (total sales on day 1: 90.28)\n",
    "# output 2:  3.49 * 6 + 4.49 * 11 + 3.99 * 6 (total sales on day 2: 94.27)\n",
    "# and so on..."
   ]
  },
  {
   "cell_type": "code",
   "execution_count": 28,
   "metadata": {},
   "outputs": [
    {
     "data": {
      "text/plain": [
       "array([[5, 5, 5],\n",
       "       [5, 5, 5],\n",
       "       [5, 5, 5],\n",
       "       [5, 5, 5]])"
      ]
     },
     "execution_count": 28,
     "metadata": {},
     "output_type": "execute_result"
    }
   ],
   "source": [
    "# Scalar multiplication also works as expected\n",
    "\n",
    "u = np.ones((4, 3), dtype=int)\n",
    "u *= 5\n",
    "u"
   ]
  },
  {
   "cell_type": "code",
   "execution_count": 29,
   "metadata": {},
   "outputs": [
    {
     "data": {
      "text/plain": [
       "array([[0.16939891, 0.49186988, 0.34277433, 0.26901334],\n",
       "       [0.61568432, 0.26861894, 0.5548106 , 0.57892899],\n",
       "       [0.14327459, 0.38418056, 0.6912007 , 0.19464466]])"
      ]
     },
     "execution_count": 29,
     "metadata": {},
     "output_type": "execute_result"
    }
   ],
   "source": [
    "# numpy arrays also allow you to create random numbers:\n",
    "\n",
    "r = np.random.random((3,4))\n",
    "r"
   ]
  },
  {
   "cell_type": "code",
   "execution_count": 30,
   "metadata": {},
   "outputs": [
    {
     "name": "stdout",
     "output_type": "stream",
     "text": [
      "Max: 0.6912007036903437 \n",
      "\n",
      "Min: 0.14327459251467545 \n",
      "\n",
      "Sum: 4.704399812185196 \n",
      "\n"
     ]
    }
   ],
   "source": [
    "# numpy arrays come with a wide collection of methods \n",
    "#     that allow you to identify characteristics of the\n",
    "#     arrays\n",
    "\n",
    "print('Max:', r.max(), '\\n')\n",
    "print('Min:', r.min(), '\\n')\n",
    "print('Sum:', r.sum(), '\\n')"
   ]
  },
  {
   "cell_type": "code",
   "execution_count": 31,
   "metadata": {},
   "outputs": [
    {
     "name": "stdout",
     "output_type": "stream",
     "text": [
      "[[ 0  1  2]\n",
      " [ 3  4  5]\n",
      " [ 6  7  8]\n",
      " [ 9 10 11]]\n"
     ]
    }
   ],
   "source": [
    "i = np.arange(12).reshape(4, 3)\n",
    "print(i)"
   ]
  },
  {
   "cell_type": "code",
   "execution_count": 32,
   "metadata": {},
   "outputs": [
    {
     "name": "stdout",
     "output_type": "stream",
     "text": [
      "Sum (by col): [18 22 26] \n",
      "\n",
      "Sum (by row): [ 3 12 21 30] \n",
      "\n"
     ]
    }
   ],
   "source": [
    "# Summations can be by column (axis 0) OR by row (axis 1)...\n",
    "\n",
    "print('Sum (by col):', i.sum(axis=0), '\\n')\n",
    "print('Sum (by row):', i.sum(axis=1), '\\n')"
   ]
  },
  {
   "cell_type": "code",
   "execution_count": 33,
   "metadata": {},
   "outputs": [
    {
     "name": "stdout",
     "output_type": "stream",
     "text": [
      "[[ 0.          0.84147098  0.90929743]\n",
      " [ 0.14112001 -0.7568025  -0.95892427]\n",
      " [-0.2794155   0.6569866   0.98935825]\n",
      " [ 0.41211849 -0.54402111 -0.99999021]]\n"
     ]
    }
   ],
   "source": [
    "# numpy also provides access to Universal functions that can be \n",
    "#     applied to given arrays:\n",
    "\n",
    "print(np.sin(i))"
   ]
  },
  {
   "cell_type": "code",
   "execution_count": 34,
   "metadata": {},
   "outputs": [
    {
     "name": "stdout",
     "output_type": "stream",
     "text": [
      "[[0.         1.         1.41421356]\n",
      " [1.73205081 2.         2.23606798]\n",
      " [2.44948974 2.64575131 2.82842712]\n",
      " [3.         3.16227766 3.31662479]]\n"
     ]
    }
   ],
   "source": [
    "print(np.sqrt(i))"
   ]
  },
  {
   "cell_type": "code",
   "execution_count": 35,
   "metadata": {},
   "outputs": [
    {
     "name": "stdout",
     "output_type": "stream",
     "text": [
      "[ 1.  4.  7. 10.]\n"
     ]
    }
   ],
   "source": [
    "print(np.mean(i, axis=1))"
   ]
  },
  {
   "cell_type": "code",
   "execution_count": 36,
   "metadata": {},
   "outputs": [],
   "source": [
    "c = np.arange(8) ** 0.5"
   ]
  },
  {
   "cell_type": "code",
   "execution_count": 37,
   "metadata": {},
   "outputs": [
    {
     "name": "stdout",
     "output_type": "stream",
     "text": [
      "1.4142135623730951\n",
      "[1.41421356 1.73205081 2.         2.23606798]\n",
      "[1.73205081 2.23606798]\n"
     ]
    }
   ],
   "source": [
    "# numpy arrays can be indexed, sliced and sliced incrementally\n",
    "\n",
    "print(c[2])\n",
    "print(c[2:6])\n",
    "print(c[3:7:2])"
   ]
  },
  {
   "cell_type": "code",
   "execution_count": 38,
   "metadata": {},
   "outputs": [
    {
     "data": {
      "text/plain": [
       "array([   0.        , 1000.        ,    1.41421356,    1.73205081,\n",
       "          2.        ,    2.23606798,    2.44948974,    2.64575131])"
      ]
     },
     "execution_count": 38,
     "metadata": {},
     "output_type": "execute_result"
    }
   ],
   "source": [
    "# numpy allows you to make assignment based on indexes\n",
    "\n",
    "c[1] = 1000\n",
    "c"
   ]
  },
  {
   "cell_type": "code",
   "execution_count": 39,
   "metadata": {},
   "outputs": [
    {
     "name": "stdout",
     "output_type": "stream",
     "text": [
      "[  99.         1000.           99.            1.73205081   99.\n",
      "    2.23606798   99.            2.64575131]\n"
     ]
    }
   ],
   "source": [
    "# numpy arrays can be assigned \n",
    "\n",
    "c[:7:2] = 99\n",
    "print(c)"
   ]
  },
  {
   "cell_type": "code",
   "execution_count": 40,
   "metadata": {},
   "outputs": [],
   "source": [
    "m = np.array([[11, 12, 13],\n",
    "              [21, 22, 23],\n",
    "              [31, 32, 33]])"
   ]
  },
  {
   "cell_type": "code",
   "execution_count": 41,
   "metadata": {},
   "outputs": [
    {
     "data": {
      "text/plain": [
       "array([11, 12, 13])"
      ]
     },
     "execution_count": 41,
     "metadata": {},
     "output_type": "execute_result"
    }
   ],
   "source": [
    "# Arrays can be indexed across multiple axis at the same time...\n",
    "# Row zero\n",
    "\n",
    "m[0]"
   ]
  },
  {
   "cell_type": "code",
   "execution_count": 42,
   "metadata": {},
   "outputs": [
    {
     "data": {
      "text/plain": [
       "array([21, 22, 23])"
      ]
     },
     "execution_count": 42,
     "metadata": {},
     "output_type": "execute_result"
    }
   ],
   "source": [
    "# Row one\n",
    "\n",
    "m[1]"
   ]
  },
  {
   "cell_type": "code",
   "execution_count": 43,
   "metadata": {},
   "outputs": [
    {
     "data": {
      "text/plain": [
       "11"
      ]
     },
     "execution_count": 43,
     "metadata": {},
     "output_type": "execute_result"
    }
   ],
   "source": [
    "# Row zero, element zero\n",
    "\n",
    "m[0, 0]"
   ]
  },
  {
   "cell_type": "code",
   "execution_count": 44,
   "metadata": {},
   "outputs": [
    {
     "data": {
      "text/plain": [
       "22"
      ]
     },
     "execution_count": 44,
     "metadata": {},
     "output_type": "execute_result"
    }
   ],
   "source": [
    "# Row one, element one\n",
    "\n",
    "m[1, 1]"
   ]
  },
  {
   "cell_type": "code",
   "execution_count": 45,
   "metadata": {},
   "outputs": [
    {
     "data": {
      "text/plain": [
       "array([21, 22])"
      ]
     },
     "execution_count": 45,
     "metadata": {},
     "output_type": "execute_result"
    }
   ],
   "source": [
    "# Row one, all elements from 0 to 2 (not including 2)\n",
    "m[1, 0:2]"
   ]
  },
  {
   "cell_type": "code",
   "execution_count": 46,
   "metadata": {},
   "outputs": [
    {
     "data": {
      "text/plain": [
       "array([21, 22, 23])"
      ]
     },
     "execution_count": 46,
     "metadata": {},
     "output_type": "execute_result"
    }
   ],
   "source": [
    "# Row one, all elements (it is possible to index outside the range)\n",
    "#     numpy will simply return all values\n",
    "\n",
    "m[1, 0:4]"
   ]
  },
  {
   "cell_type": "code",
   "execution_count": 47,
   "metadata": {},
   "outputs": [
    {
     "name": "stdout",
     "output_type": "stream",
     "text": [
      "[12 22 32]\n"
     ]
    }
   ],
   "source": [
    "# Extraction of columns is possible, as well\n",
    "#     To extract a specific column, simply slice across all rows at\n",
    "#     a particular index\n",
    "# The following extracts all elements from the one-th column\n",
    "\n",
    "print(m[0:3, 1])"
   ]
  },
  {
   "cell_type": "code",
   "execution_count": 48,
   "metadata": {},
   "outputs": [
    {
     "name": "stdout",
     "output_type": "stream",
     "text": [
      "[13 23 33]\n"
     ]
    }
   ],
   "source": [
    "# Much like Python, you can simply use a colon as a placeholder\n",
    "#     to select all rows.\n",
    "\n",
    "print(m[:, 2])"
   ]
  },
  {
   "cell_type": "code",
   "execution_count": 49,
   "metadata": {},
   "outputs": [
    {
     "data": {
      "text/plain": [
       "array([11, 12, 13, 21, 22, 23, 31, 32, 33])"
      ]
     },
     "execution_count": 49,
     "metadata": {},
     "output_type": "execute_result"
    }
   ],
   "source": [
    "# numpy arrays can be flattened using the ravel function:\n",
    "\n",
    "m.ravel()"
   ]
  },
  {
   "cell_type": "code",
   "execution_count": 50,
   "metadata": {},
   "outputs": [
    {
     "data": {
      "text/plain": [
       "array([[5, 5, 5, 5, 5, 5],\n",
       "       [5, 5, 5, 5, 5, 5]])"
      ]
     },
     "execution_count": 50,
     "metadata": {},
     "output_type": "execute_result"
    }
   ],
   "source": [
    "# Let's reshape the array 'u'\n",
    "\n",
    "u.shape = (2, 6)\n",
    "u"
   ]
  },
  {
   "cell_type": "code",
   "execution_count": 51,
   "metadata": {},
   "outputs": [
    {
     "data": {
      "text/plain": [
       "array([[5, 5],\n",
       "       [5, 5],\n",
       "       [5, 5],\n",
       "       [5, 5],\n",
       "       [5, 5],\n",
       "       [5, 5]])"
      ]
     },
     "execution_count": 51,
     "metadata": {},
     "output_type": "execute_result"
    }
   ],
   "source": [
    "# Arrays can be easily transposed\n",
    "\n",
    "u.T"
   ]
  },
  {
   "cell_type": "code",
   "execution_count": 52,
   "metadata": {},
   "outputs": [
    {
     "name": "stdout",
     "output_type": "stream",
     "text": [
      "[[0 1 2]\n",
      " [3 4 5]]\n",
      "\n",
      "[[10 11 12]\n",
      " [13 14 15]]\n"
     ]
    }
   ],
   "source": [
    "# Let's create two arrays\n",
    "\n",
    "v1 = np.arange(6).reshape((2,3))\n",
    "v2 = np.arange(10, 16).reshape((2,3))\n",
    "\n",
    "print(v1)\n",
    "print()\n",
    "print(v2)"
   ]
  },
  {
   "cell_type": "code",
   "execution_count": 53,
   "metadata": {},
   "outputs": [
    {
     "data": {
      "text/plain": [
       "array([[ 0,  1,  2],\n",
       "       [ 3,  4,  5],\n",
       "       [10, 11, 12],\n",
       "       [13, 14, 15]])"
      ]
     },
     "execution_count": 53,
     "metadata": {},
     "output_type": "execute_result"
    }
   ],
   "source": [
    "# numpy allows us to stack the data in the arrays vertically\n",
    "\n",
    "np.vstack((v1, v2))"
   ]
  },
  {
   "cell_type": "code",
   "execution_count": 54,
   "metadata": {},
   "outputs": [
    {
     "data": {
      "text/plain": [
       "array([[ 0,  1,  2, 10, 11, 12],\n",
       "       [ 3,  4,  5, 13, 14, 15]])"
      ]
     },
     "execution_count": 54,
     "metadata": {},
     "output_type": "execute_result"
    }
   ],
   "source": [
    "# similarly, it is possible to stack arrays side-by-side\n",
    "#     or horizontally\n",
    "\n",
    "np.hstack((v1, v2))"
   ]
  },
  {
   "cell_type": "code",
   "execution_count": 76,
   "metadata": {},
   "outputs": [
    {
     "data": {
      "text/plain": [
       "[array([11, 12, 13]),\n",
       " array([21, 22, 23]),\n",
       " array([31, 32, 33]),\n",
       " array([41, 42, 43])]"
      ]
     },
     "execution_count": 76,
     "metadata": {},
     "output_type": "execute_result"
    }
   ],
   "source": [
    "# Splitting an array\n",
    "\n",
    "split = np.array([11, 12, 13, 21, 22, 23, 31, 32, 33, 41, 42, 43])\n",
    "\n",
    "post_split = np.split(split, [3, 6, 9])\n",
    "post_split"
   ]
  },
  {
   "cell_type": "code",
   "execution_count": 83,
   "metadata": {},
   "outputs": [],
   "source": [
    "hsplit = np.array([[11, 11, 22], \n",
    "                   [11, 11, 22]])\n",
    "\n",
    "\n",
    "lsplit, rsplit = np.hsplit(hsplit, [2])\n"
   ]
  },
  {
   "cell_type": "code",
   "execution_count": 84,
   "metadata": {},
   "outputs": [
    {
     "data": {
      "text/plain": [
       "array([[11, 11],\n",
       "       [11, 11]])"
      ]
     },
     "execution_count": 84,
     "metadata": {},
     "output_type": "execute_result"
    }
   ],
   "source": [
    "lsplit"
   ]
  },
  {
   "cell_type": "code",
   "execution_count": 85,
   "metadata": {},
   "outputs": [
    {
     "data": {
      "text/plain": [
       "array([[22],\n",
       "       [22]])"
      ]
     },
     "execution_count": 85,
     "metadata": {},
     "output_type": "execute_result"
    }
   ],
   "source": [
    "rsplit"
   ]
  },
  {
   "cell_type": "code",
   "execution_count": null,
   "metadata": {},
   "outputs": [],
   "source": []
  }
 ],
 "metadata": {
  "kernelspec": {
   "display_name": "Python 3",
   "language": "python",
   "name": "python3"
  },
  "language_info": {
   "codemirror_mode": {
    "name": "ipython",
    "version": 3
   },
   "file_extension": ".py",
   "mimetype": "text/x-python",
   "name": "python",
   "nbconvert_exporter": "python",
   "pygments_lexer": "ipython3",
   "version": "3.6.4"
  }
 },
 "nbformat": 4,
 "nbformat_minor": 2
}
