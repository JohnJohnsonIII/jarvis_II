{
 "cells": [
  {
   "cell_type": "markdown",
   "metadata": {},
   "source": [
    "# Formatting text using textwrap"
   ]
  },
  {
   "cell_type": "markdown",
   "metadata": {},
   "source": [
    "Much of what we do requires that we share information. Often that information is text-based. Being able to present that text in a clear, meaningful and well-formatted way can be critical to our success in delivering the message.\n",
    "\n",
    "That is where Python's `textwrap` module comes into play.\n"
   ]
  },
  {
   "cell_type": "markdown",
   "metadata": {},
   "source": [
    "Let's start with a section of text, namely the opening paragraph for **War of the Worlds** by H. G. Welles."
   ]
  },
  {
   "cell_type": "code",
   "execution_count": 65,
   "metadata": {},
   "outputs": [],
   "source": [
    "wotw = \"No one would have believed in the last years of the nineteenth century that this world was being watched keenly and closely by intelligences greater than man's and yet as mortal as his own; that as men busied themselves about their various concerns they were scrutinised and studied, perhaps almost as narrowly as a man with a microscope might scrutinise the transient creatures that swarm and multiply in a drop of water.  With infinite complacency men went to and fro over this globe about their little affairs, serene in their assurance of their empire over matter.  It is possible that the infusoria under the microscope do the same.  No one gave a thought to the older worlds of space as sources of human danger, or thought of them only to dismiss the idea of life upon them as impossible or improbable.  It is curious to recall some of the mental habits of those departed days.  At most terrestrial men fancied there might be other men upon Mars, perhaps inferior to themselves and ready to welcome a missionary enterprise.  Yet across the gulf of space, minds that are to our minds as ours are to those of the beasts that perish, intellects vast and cool and unsympathetic, regarded this earth with envious eyes, and slowly and surely drew their plans against us.  And early in the twentieth century came the great disillusionment.\""
   ]
  },
  {
   "cell_type": "markdown",
   "metadata": {},
   "source": [
    "Simply printing this text will lead to some potentially unexpected OR undesireable results:\n",
    "\n",
    "* limited control over the length of the lines\n",
    "* line breaks in the middle of words\n",
    "* lack of hyphenation\n",
    "* lack of paragraph indentation\n",
    "* etc\n"
   ]
  },
  {
   "cell_type": "code",
   "execution_count": 66,
   "metadata": {},
   "outputs": [
    {
     "name": "stdout",
     "output_type": "stream",
     "text": [
      "No one would have believed in the last years of the nineteenth century that this world was being watched keenly and closely by intelligences greater than man's and yet as mortal as his own; that as men busied themselves about their various concerns they were scrutinised and studied, perhaps almost as narrowly as a man with a microscope might scrutinise the transient creatures that swarm and multiply in a drop of water.  With infinite complacency men went to and fro over this globe about their little affairs, serene in their assurance of their empire over matter.  It is possible that the infusoria under the microscope do the same.  No one gave a thought to the older worlds of space as sources of human danger, or thought of them only to dismiss the idea of life upon them as impossible or improbable.  It is curious to recall some of the mental habits of those departed days.  At most terrestrial men fancied there might be other men upon Mars, perhaps inferior to themselves and ready to welcome a missionary enterprise.  Yet across the gulf of space, minds that are to our minds as ours are to those of the beasts that perish, intellects vast and cool and unsympathetic, regarded this earth with envious eyes, and slowly and surely drew their plans against us.  And early in the twentieth century came the great disillusionment.\n"
     ]
    }
   ],
   "source": [
    "print(wotw)"
   ]
  },
  {
   "cell_type": "markdown",
   "metadata": {},
   "source": [
    "`textwrap` is included in the Python Standard Library and needs to be imported:"
   ]
  },
  {
   "cell_type": "markdown",
   "metadata": {},
   "source": [
    "# textwrap.wrap()"
   ]
  },
  {
   "cell_type": "code",
   "execution_count": 68,
   "metadata": {},
   "outputs": [],
   "source": [
    "import textwrap as tw"
   ]
  },
  {
   "cell_type": "markdown",
   "metadata": {},
   "source": [
    "Let's presume you wanted text that could easily be displayed on a commandline interface ... which typically has a default width of 80 characters."
   ]
  },
  {
   "cell_type": "code",
   "execution_count": 69,
   "metadata": {},
   "outputs": [
    {
     "data": {
      "text/plain": [
       "['No one would have believed in the last years of the nineteenth century that this',\n",
       " \"world was being watched keenly and closely by intelligences greater than man's\",\n",
       " 'and yet as mortal as his own; that as men busied themselves about their various',\n",
       " 'concerns they were scrutinised and studied, perhaps almost as narrowly as a man',\n",
       " 'with a microscope might scrutinise the transient creatures that swarm and',\n",
       " 'multiply in a drop of water.  With infinite complacency men went to and fro over',\n",
       " 'this globe about their little affairs, serene in their assurance of their empire',\n",
       " 'over matter.  It is possible that the infusoria under the microscope do the',\n",
       " 'same.  No one gave a thought to the older worlds of space as sources of human',\n",
       " 'danger, or thought of them only to dismiss the idea of life upon them as',\n",
       " 'impossible or improbable.  It is curious to recall some of the mental habits of',\n",
       " 'those departed days.  At most terrestrial men fancied there might be other men',\n",
       " 'upon Mars, perhaps inferior to themselves and ready to welcome a missionary',\n",
       " 'enterprise.  Yet across the gulf of space, minds that are to our minds as ours',\n",
       " 'are to those of the beasts that perish, intellects vast and cool and',\n",
       " 'unsympathetic, regarded this earth with envious eyes, and slowly and surely drew',\n",
       " 'their plans against us.  And early in the twentieth century came the great',\n",
       " 'disillusionment.']"
      ]
     },
     "execution_count": 69,
     "metadata": {},
     "output_type": "execute_result"
    }
   ],
   "source": [
    "tw.wrap(wotw, width=80)"
   ]
  },
  {
   "cell_type": "markdown",
   "metadata": {},
   "source": [
    "The `wrap()` method returns a list of strings. Each string is modified to meet the parameters set by the `wrap()` method. In this case the strings were truncated to 80 characters OR less. \n",
    "\n",
    "We can confirm that the `wrap()` method cut the text appropriately:\n",
    "* break the text into lines\n",
    "* calculate the length of each line using the `len()` function\n",
    "* sort the lengths using the `sorted()` method\n"
   ]
  },
  {
   "cell_type": "code",
   "execution_count": 70,
   "metadata": {},
   "outputs": [
    {
     "name": "stdout",
     "output_type": "stream",
     "text": [
      "[16, 68, 72, 73, 74, 75, 75, 77, 78, 78, 78, 79, 79, 79, 80, 80, 80, 80]\n"
     ]
    }
   ],
   "source": [
    "lines = tw.wrap(wotw, width=80)\n",
    "\n",
    "lengths = sorted([len(line) for line in lines])\n",
    "print(lengths)"
   ]
  },
  {
   "cell_type": "markdown",
   "metadata": {},
   "source": [
    "Shorter lines are equally possible... by changing the `width`"
   ]
  },
  {
   "cell_type": "code",
   "execution_count": 71,
   "metadata": {},
   "outputs": [
    {
     "data": {
      "text/plain": [
       "['No one would have believed in the last years of',\n",
       " 'the nineteenth century that this world was being',\n",
       " 'watched keenly and closely by intelligences',\n",
       " \"greater than man's and yet as mortal as his own;\",\n",
       " 'that as men busied themselves about their various',\n",
       " 'concerns they were scrutinised and studied,',\n",
       " 'perhaps almost as narrowly as a man with a',\n",
       " 'microscope might scrutinise the transient',\n",
       " 'creatures that swarm and multiply in a drop of',\n",
       " 'water.  With infinite complacency men went to and',\n",
       " 'fro over this globe about their little affairs,',\n",
       " 'serene in their assurance of their empire over',\n",
       " 'matter.  It is possible that the infusoria under',\n",
       " 'the microscope do the same.  No one gave a thought',\n",
       " 'to the older worlds of space as sources of human',\n",
       " 'danger, or thought of them only to dismiss the',\n",
       " 'idea of life upon them as impossible or',\n",
       " 'improbable.  It is curious to recall some of the',\n",
       " 'mental habits of those departed days.  At most',\n",
       " 'terrestrial men fancied there might be other men',\n",
       " 'upon Mars, perhaps inferior to themselves and',\n",
       " 'ready to welcome a missionary enterprise.  Yet',\n",
       " 'across the gulf of space, minds that are to our',\n",
       " 'minds as ours are to those of the beasts that',\n",
       " 'perish, intellects vast and cool and',\n",
       " 'unsympathetic, regarded this earth with envious',\n",
       " 'eyes, and slowly and surely drew their plans',\n",
       " 'against us.  And early in the twentieth century',\n",
       " 'came the great disillusionment.']"
      ]
     },
     "execution_count": 71,
     "metadata": {},
     "output_type": "execute_result"
    }
   ],
   "source": [
    "tw.wrap(wotw, width=50)"
   ]
  },
  {
   "cell_type": "markdown",
   "metadata": {},
   "source": [
    "Typically, we want to display the text using something like `print()` ... a `for` loop is an option, but not the only one..."
   ]
  },
  {
   "cell_type": "code",
   "execution_count": 72,
   "metadata": {},
   "outputs": [
    {
     "name": "stdout",
     "output_type": "stream",
     "text": [
      "No one would have believed in the last years of\n",
      "the nineteenth century that this world was being\n",
      "watched keenly and closely by intelligences\n",
      "greater than man's and yet as mortal as his own;\n",
      "that as men busied themselves about their various\n",
      "concerns they were scrutinised and studied,\n",
      "perhaps almost as narrowly as a man with a\n",
      "microscope might scrutinise the transient\n",
      "creatures that swarm and multiply in a drop of\n",
      "water.  With infinite complacency men went to and\n",
      "fro over this globe about their little affairs,\n",
      "serene in their assurance of their empire over\n",
      "matter.  It is possible that the infusoria under\n",
      "the microscope do the same.  No one gave a thought\n",
      "to the older worlds of space as sources of human\n",
      "danger, or thought of them only to dismiss the\n",
      "idea of life upon them as impossible or\n",
      "improbable.  It is curious to recall some of the\n",
      "mental habits of those departed days.  At most\n",
      "terrestrial men fancied there might be other men\n",
      "upon Mars, perhaps inferior to themselves and\n",
      "ready to welcome a missionary enterprise.  Yet\n",
      "across the gulf of space, minds that are to our\n",
      "minds as ours are to those of the beasts that\n",
      "perish, intellects vast and cool and\n",
      "unsympathetic, regarded this earth with envious\n",
      "eyes, and slowly and surely drew their plans\n",
      "against us.  And early in the twentieth century\n",
      "came the great disillusionment.\n"
     ]
    }
   ],
   "source": [
    "for line in tw.wrap(wotw, width=50):\n",
    "    print(line)"
   ]
  },
  {
   "cell_type": "markdown",
   "metadata": {},
   "source": [
    "Alternately, you might be tempted to do something like this... but you don't have to..."
   ]
  },
  {
   "cell_type": "code",
   "execution_count": 73,
   "metadata": {},
   "outputs": [
    {
     "name": "stdout",
     "output_type": "stream",
     "text": [
      "No one would have believed in the last years of the nineteenth century that this\n",
      "world was being watched keenly and closely by intelligences greater than man's\n",
      "and yet as mortal as his own; that as men busied themselves about their various\n",
      "concerns they were scrutinised and studied, perhaps almost as narrowly as a man\n",
      "with a microscope might scrutinise the transient creatures that swarm and\n",
      "multiply in a drop of water.  With infinite complacency men went to and fro over\n",
      "this globe about their little affairs, serene in their assurance of their empire\n",
      "over matter.  It is possible that the infusoria under the microscope do the\n",
      "same.  No one gave a thought to the older worlds of space as sources of human\n",
      "danger, or thought of them only to dismiss the idea of life upon them as\n",
      "impossible or improbable.  It is curious to recall some of the mental habits of\n",
      "those departed days.  At most terrestrial men fancied there might be other men\n",
      "upon Mars, perhaps inferior to themselves and ready to welcome a missionary\n",
      "enterprise.  Yet across the gulf of space, minds that are to our minds as ours\n",
      "are to those of the beasts that perish, intellects vast and cool and\n",
      "unsympathetic, regarded this earth with envious eyes, and slowly and surely drew\n",
      "their plans against us.  And early in the twentieth century came the great\n",
      "disillusionment.\n"
     ]
    }
   ],
   "source": [
    "print(*tw.wrap(wotw, width=80), sep='\\n')"
   ]
  },
  {
   "cell_type": "markdown",
   "metadata": {},
   "source": [
    "Do this instead!"
   ]
  },
  {
   "cell_type": "code",
   "execution_count": 60,
   "metadata": {},
   "outputs": [
    {
     "name": "stdout",
     "output_type": "stream",
     "text": [
      "No one would have believed in the last years of the nineteenth century that this\n",
      "world was being watched keenly and closely by intelligences greater than man's\n",
      "and yet as mortal as his own; that as men busied themselves about their various\n",
      "concerns they were scrutinised and studied, perhaps almost as narrowly as a man\n",
      "with a microscope might scrutinise the transient creatures that swarm and\n",
      "multiply in a drop of water.  With infinite complacency men went to and fro over\n",
      "this globe about their little affairs, serene in their assurance of their empire\n",
      "over matter.  It is possible that the infusoria under the microscope do the\n",
      "same.  No one gave a thought to the older worlds of space as sources of human\n",
      "danger, or thought of them only to dismiss the idea of life upon them as\n",
      "impossible or improbable.  It is curious to recall some of the mental habits of\n",
      "those departed days.  At most terrestrial men fancied there might be other men\n",
      "upon Mars, perhaps inferior to themselves and ready to welcome a missionary\n",
      "enterprise.  Yet across the gulf of space, minds that are to our minds as ours\n",
      "are to those of the beasts that perish, intellects vast and cool and\n",
      "unsympathetic, regarded this earth with envious eyes, and slowly and surely drew\n",
      "their plans against us.  And early in the twentieth century came the great\n",
      "disillusionment.\n"
     ]
    }
   ],
   "source": [
    "print(tw.fill(wotw, width=80))"
   ]
  },
  {
   "cell_type": "markdown",
   "metadata": {},
   "source": [
    "# Truncation to a maximum number of lines"
   ]
  },
  {
   "cell_type": "markdown",
   "metadata": {},
   "source": [
    "Sometimes, we want to display a certain amount of text, but maybe not the entire body \n",
    "of the text, so that we don't blow up the user's interface."
   ]
  },
  {
   "cell_type": "code",
   "execution_count": 76,
   "metadata": {},
   "outputs": [
    {
     "data": {
      "text/plain": [
       "['No one would have believed in the last years of the nineteenth century that this',\n",
       " \"world was being watched keenly and closely by intelligences greater than man's\",\n",
       " 'and yet as mortal as his own; that as men busied themselves about their various',\n",
       " 'concerns they were scrutinised and studied, perhaps almost as narrowly as a man',\n",
       " 'with a microscope might scrutinise the transient creatures that swarm and [...]']"
      ]
     },
     "execution_count": 76,
     "metadata": {},
     "output_type": "execute_result"
    }
   ],
   "source": [
    "tw.wrap(wotw, width=80, max_lines=5)"
   ]
  },
  {
   "cell_type": "markdown",
   "metadata": {},
   "source": [
    "Notice, in the example above, that the max_lines argument cut off the text at five lines\n",
    "\n",
    "AND\n",
    "\n",
    "that the cutoff was identified using a placeholder: ` [...]`"
   ]
  },
  {
   "cell_type": "markdown",
   "metadata": {},
   "source": [
    "The placeholder can be defined:"
   ]
  },
  {
   "cell_type": "code",
   "execution_count": 77,
   "metadata": {},
   "outputs": [
    {
     "data": {
      "text/plain": [
       "['No one would have believed in the last years of the nineteenth century that this',\n",
       " \"world was being watched keenly and closely by intelligences greater than man's\",\n",
       " 'and yet as mortal as his own; that as men busied themselves about their various',\n",
       " 'concerns they were scrutinised and studied, perhaps almost as narrowly as a man',\n",
       " 'with a microscope might scrutinise the transient creatures that swarm and >>>']"
      ]
     },
     "execution_count": 77,
     "metadata": {},
     "output_type": "execute_result"
    }
   ],
   "source": [
    "tw.wrap(wotw, width=80, max_lines=5, placeholder=' >>>')"
   ]
  },
  {
   "cell_type": "markdown",
   "metadata": {},
   "source": [
    "# Indentation"
   ]
  },
  {
   "cell_type": "markdown",
   "metadata": {},
   "source": [
    "Commonly used rules for style and formatting have stipulations regarding indentation, etc.\n",
    "\n",
    "`textwrap` has features builtin to assist with both initial indentation and subsequent indentation (also known as hanging indentation)."
   ]
  },
  {
   "cell_type": "code",
   "execution_count": 61,
   "metadata": {},
   "outputs": [
    {
     "data": {
      "text/plain": [
       "['....No one would have believed in the last years of the nineteenth century that',\n",
       " 'this world was being watched keenly and closely by intelligences greater than',\n",
       " \"man's and yet as mortal as his own; that as men busied themselves about their\",\n",
       " 'various concerns they were scrutinised and studied, perhaps almost as narrowly',\n",
       " 'as a man with a microscope might scrutinise the transient creatures that [...]']"
      ]
     },
     "execution_count": 61,
     "metadata": {},
     "output_type": "execute_result"
    }
   ],
   "source": [
    "tw.wrap(wotw, width=80, initial_indent='....', max_lines=5)"
   ]
  },
  {
   "cell_type": "markdown",
   "metadata": {},
   "source": [
    "Essentially any string can be used as the initial indent string, ie. the tab character: `'\\t'` works just as well...\n",
    "\n",
    "When rendered (using `print()` for example, the tab character will render with the desired result.\n"
   ]
  },
  {
   "cell_type": "code",
   "execution_count": 64,
   "metadata": {},
   "outputs": [
    {
     "data": {
      "text/plain": [
       "['\\tNo one would have believed in the last years of the nineteenth century that',\n",
       " 'this world was being watched keenly and closely by intelligences greater than',\n",
       " \"man's and yet as mortal as his own; that as men busied themselves about their\",\n",
       " 'various concerns they were scrutinised and studied, perhaps almost as narrowly',\n",
       " 'as a man with a microscope might scrutinise the transient creatures that [...]']"
      ]
     },
     "execution_count": 64,
     "metadata": {},
     "output_type": "execute_result"
    }
   ],
   "source": [
    "tw.wrap(wotw, width=80, initial_indent='\\t', max_lines=5)"
   ]
  },
  {
   "cell_type": "code",
   "execution_count": 21,
   "metadata": {},
   "outputs": [],
   "source": [
    "wrapper = textwrap.TextWrapper(width=70, initial_indent='....', subsequent_indent='........', max_lines=5, placeholder=' ___')"
   ]
  },
  {
   "cell_type": "code",
   "execution_count": 22,
   "metadata": {},
   "outputs": [
    {
     "data": {
      "text/plain": [
       "['....No one would have believed in the last years of the nineteenth',\n",
       " '........century that this world was being watched keenly and closely',\n",
       " \"........by intelligences greater than man's and yet as mortal as his\",\n",
       " '........own; that as men busied themselves about their various',\n",
       " '........concerns they were scrutinised and studied, perhaps almost ___']"
      ]
     },
     "execution_count": 22,
     "metadata": {},
     "output_type": "execute_result"
    }
   ],
   "source": [
    "wrapper.wrap(\"No one would have believed in the last years of the nineteenth century that this world was being watched keenly and closely by intelligences greater than man's and yet as mortal as his own; that as men busied themselves about their various concerns they were scrutinised and studied, perhaps almost as narrowly as a man with a microscope might scrutinise the transient creatures that swarm and multiply in a drop of water.  With infinite complacency men went to and fro over this globe about their little affairs, serene in their assurance of their empire over matter.  It is possible that the infusoria under the microscope do the same.  No one gave a thought to the older worlds of space as sources of human danger, or thought of them only to dismiss the idea of life upon them as impossible or improbable.  It is curious to recall some of the mental habits of those departed days.  At most terrestrial men fancied there might be other men upon Mars, perhaps inferior to themselves and ready to welcome a missionary enterprise.  Yet across the gulf of space, minds that are to our minds as ours are to those of the beasts that perish, intellects vast and cool and unsympathetic, regarded this earth with envious eyes, and slowly and surely drew their plans against us.  And early in the twentieth century came the great disillusionment.\")"
   ]
  },
  {
   "cell_type": "code",
   "execution_count": 48,
   "metadata": {},
   "outputs": [
    {
     "data": {
      "text/plain": [
       "\u001b[0;31mInit signature:\u001b[0m \u001b[0mtw\u001b[0m\u001b[0;34m.\u001b[0m\u001b[0mTextWrapper\u001b[0m\u001b[0;34m(\u001b[0m\u001b[0mwidth\u001b[0m\u001b[0;34m=\u001b[0m\u001b[0;36m70\u001b[0m\u001b[0;34m,\u001b[0m \u001b[0minitial_indent\u001b[0m\u001b[0;34m=\u001b[0m\u001b[0;34m''\u001b[0m\u001b[0;34m,\u001b[0m \u001b[0msubsequent_indent\u001b[0m\u001b[0;34m=\u001b[0m\u001b[0;34m''\u001b[0m\u001b[0;34m,\u001b[0m \u001b[0mexpand_tabs\u001b[0m\u001b[0;34m=\u001b[0m\u001b[0;32mTrue\u001b[0m\u001b[0;34m,\u001b[0m \u001b[0mreplace_whitespace\u001b[0m\u001b[0;34m=\u001b[0m\u001b[0;32mTrue\u001b[0m\u001b[0;34m,\u001b[0m \u001b[0mfix_sentence_endings\u001b[0m\u001b[0;34m=\u001b[0m\u001b[0;32mFalse\u001b[0m\u001b[0;34m,\u001b[0m \u001b[0mbreak_long_words\u001b[0m\u001b[0;34m=\u001b[0m\u001b[0;32mTrue\u001b[0m\u001b[0;34m,\u001b[0m \u001b[0mdrop_whitespace\u001b[0m\u001b[0;34m=\u001b[0m\u001b[0;32mTrue\u001b[0m\u001b[0;34m,\u001b[0m \u001b[0mbreak_on_hyphens\u001b[0m\u001b[0;34m=\u001b[0m\u001b[0;32mTrue\u001b[0m\u001b[0;34m,\u001b[0m \u001b[0mtabsize\u001b[0m\u001b[0;34m=\u001b[0m\u001b[0;36m8\u001b[0m\u001b[0;34m,\u001b[0m \u001b[0;34m*\u001b[0m\u001b[0;34m,\u001b[0m \u001b[0mmax_lines\u001b[0m\u001b[0;34m=\u001b[0m\u001b[0;32mNone\u001b[0m\u001b[0;34m,\u001b[0m \u001b[0mplaceholder\u001b[0m\u001b[0;34m=\u001b[0m\u001b[0;34m' [...]'\u001b[0m\u001b[0;34m)\u001b[0m\u001b[0;34m\u001b[0m\u001b[0m\n",
       "\u001b[0;31mDocstring:\u001b[0m     \n",
       "Object for wrapping/filling text.  The public interface consists of\n",
       "the wrap() and fill() methods; the other methods are just there for\n",
       "subclasses to override in order to tweak the default behaviour.\n",
       "If you want to completely replace the main wrapping algorithm,\n",
       "you'll probably have to override _wrap_chunks().\n",
       "\n",
       "Several instance attributes control various aspects of wrapping:\n",
       "  width (default: 70)\n",
       "    the maximum width of wrapped lines (unless break_long_words\n",
       "    is false)\n",
       "  initial_indent (default: \"\")\n",
       "    string that will be prepended to the first line of wrapped\n",
       "    output.  Counts towards the line's width.\n",
       "  subsequent_indent (default: \"\")\n",
       "    string that will be prepended to all lines save the first\n",
       "    of wrapped output; also counts towards each line's width.\n",
       "  expand_tabs (default: true)\n",
       "    Expand tabs in input text to spaces before further processing.\n",
       "    Each tab will become 0 .. 'tabsize' spaces, depending on its position\n",
       "    in its line.  If false, each tab is treated as a single character.\n",
       "  tabsize (default: 8)\n",
       "    Expand tabs in input text to 0 .. 'tabsize' spaces, unless\n",
       "    'expand_tabs' is false.\n",
       "  replace_whitespace (default: true)\n",
       "    Replace all whitespace characters in the input text by spaces\n",
       "    after tab expansion.  Note that if expand_tabs is false and\n",
       "    replace_whitespace is true, every tab will be converted to a\n",
       "    single space!\n",
       "  fix_sentence_endings (default: false)\n",
       "    Ensure that sentence-ending punctuation is always followed\n",
       "    by two spaces.  Off by default because the algorithm is\n",
       "    (unavoidably) imperfect.\n",
       "  break_long_words (default: true)\n",
       "    Break words longer than 'width'.  If false, those words will not\n",
       "    be broken, and some lines might be longer than 'width'.\n",
       "  break_on_hyphens (default: true)\n",
       "    Allow breaking hyphenated words. If true, wrapping will occur\n",
       "    preferably on whitespaces and right after hyphens part of\n",
       "    compound words.\n",
       "  drop_whitespace (default: true)\n",
       "    Drop leading and trailing whitespace from lines.\n",
       "  max_lines (default: None)\n",
       "    Truncate wrapped lines.\n",
       "  placeholder (default: ' [...]')\n",
       "    Append to the last line of truncated text.\n",
       "\u001b[0;31mFile:\u001b[0m           ~/miniconda3/envs/jarvis/lib/python3.6/textwrap.py\n",
       "\u001b[0;31mType:\u001b[0m           type\n"
      ]
     },
     "metadata": {},
     "output_type": "display_data"
    }
   ],
   "source": [
    "tw.TextWrapper?\n"
   ]
  },
  {
   "cell_type": "code",
   "execution_count": null,
   "metadata": {},
   "outputs": [],
   "source": []
  }
 ],
 "metadata": {
  "kernelspec": {
   "display_name": "Python 3",
   "language": "python",
   "name": "python3"
  },
  "language_info": {
   "codemirror_mode": {
    "name": "ipython",
    "version": 3
   },
   "file_extension": ".py",
   "mimetype": "text/x-python",
   "name": "python",
   "nbconvert_exporter": "python",
   "pygments_lexer": "ipython3",
   "version": "3.6.4"
  }
 },
 "nbformat": 4,
 "nbformat_minor": 2
}
