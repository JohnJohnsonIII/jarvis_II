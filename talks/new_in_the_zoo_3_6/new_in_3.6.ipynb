{
 "cells": [
  {
   "cell_type": "code",
   "execution_count": 1,
   "metadata": {},
   "outputs": [],
   "source": [
    "# f strings"
   ]
  },
  {
   "cell_type": "code",
   "execution_count": 27,
   "metadata": {},
   "outputs": [
    {
     "data": {
      "text/plain": [
       "'He said his name is Fred.'"
      ]
     },
     "execution_count": 27,
     "metadata": {},
     "output_type": "execute_result"
    }
   ],
   "source": [
    ">>> name = \"Fred\"\n",
    ">>> f\"He said his name is {name}.\""
   ]
  },
  {
   "cell_type": "code",
   "execution_count": 29,
   "metadata": {},
   "outputs": [
    {
     "data": {
      "text/plain": [
       "'result:      12.35'"
      ]
     },
     "execution_count": 29,
     "metadata": {},
     "output_type": "execute_result"
    }
   ],
   "source": [
    "import decimal\n",
    ">>> width = 10\n",
    ">>> precision = 4\n",
    ">>> value = decimal.Decimal(\"12.34567\")\n",
    ">>> f\"result: {value:{width}.{precision}}\"  # nested fields\n"
   ]
  },
  {
   "cell_type": "code",
   "execution_count": 30,
   "metadata": {},
   "outputs": [
    {
     "data": {
      "text/plain": [
       "'January 27, 2017'"
      ]
     },
     "execution_count": 30,
     "metadata": {},
     "output_type": "execute_result"
    }
   ],
   "source": [
    "from datetime import datetime\n",
    ">>> today = datetime(year=2017, month=1, day=27)\n",
    ">>> f\"{today:%B %d, %Y}\"  # using date format specifier\n"
   ]
  },
  {
   "cell_type": "code",
   "execution_count": 31,
   "metadata": {},
   "outputs": [
    {
     "data": {
      "text/plain": [
       "'eric idle is funny.'"
      ]
     },
     "execution_count": 31,
     "metadata": {},
     "output_type": "execute_result"
    }
   ],
   "source": [
    ">>> def to_lowercase(input):\n",
    "...     return input.lower()\n",
    "\n",
    ">>> name = \"Eric Idle\"\n",
    ">>> f\"{to_lowercase(name)} is funny.\"\n"
   ]
  },
  {
   "cell_type": "code",
   "execution_count": 32,
   "metadata": {},
   "outputs": [
    {
     "name": "stdout",
     "output_type": "stream",
     "text": [
      "\n",
      "    Hi Eric. \n",
      "    You are a comedian. \n",
      "    You were in Monty Python.\n",
      "\n"
     ]
    }
   ],
   "source": [
    ">>> name = \"Eric\"\n",
    ">>> profession = \"comedian\"\n",
    ">>> affiliation = \"Monty Python\"\n",
    ">>> message = f\"\"\"\n",
    "...     Hi {name}. \n",
    "...     You are a {profession}. \n",
    "...     You were in {affiliation}.\n",
    "... \"\"\"\n",
    "...\n",
    ">>> print(message)\n"
   ]
  },
  {
   "cell_type": "code",
   "execution_count": 33,
   "metadata": {},
   "outputs": [
    {
     "data": {
      "text/plain": [
       "0.002569839998614043"
      ]
     },
     "execution_count": 33,
     "metadata": {},
     "output_type": "execute_result"
    }
   ],
   "source": [
    ">>> import timeit\n",
    ">>> timeit.timeit(\"\"\"name = \"Eric\"\n",
    "... age = 74\n",
    "... '%s is %s.' % (name, age)\"\"\", number = 10000)"
   ]
  },
  {
   "cell_type": "code",
   "execution_count": 34,
   "metadata": {},
   "outputs": [
    {
     "data": {
      "text/plain": [
       "0.003618334001657786"
      ]
     },
     "execution_count": 34,
     "metadata": {},
     "output_type": "execute_result"
    }
   ],
   "source": [
    ">>> timeit.timeit(\"\"\"name = \"Eric\"\n",
    "... age = 74\n",
    "... '{} is {}.'.format(name, age)\"\"\", number = 10000)"
   ]
  },
  {
   "cell_type": "code",
   "execution_count": 35,
   "metadata": {},
   "outputs": [
    {
     "data": {
      "text/plain": [
       "0.0022970019999775104"
      ]
     },
     "execution_count": 35,
     "metadata": {},
     "output_type": "execute_result"
    }
   ],
   "source": [
    "import timeit\n",
    ">>> timeit.timeit(\"\"\"name = \"Eric\"\n",
    "... age = 74\n",
    "... f'{name} is {age}.'\"\"\", number = 10000)\n"
   ]
  },
  {
   "cell_type": "code",
   "execution_count": 2,
   "metadata": {},
   "outputs": [],
   "source": [
    "# thousands separators"
   ]
  },
  {
   "cell_type": "code",
   "execution_count": 36,
   "metadata": {},
   "outputs": [],
   "source": [
    "# grouping decimal numbers by thousands\n",
    "amount = 10_000_000.0\n",
    "\n",
    "# grouping hexadecimal addresses by words\n",
    "addr = 0xCAFE_F00D\n",
    "\n",
    "# grouping bits into nibbles in a binary literal\n",
    "nibbles = 0b_0011_1111_0100_1110\n",
    "\n",
    "# same, for string conversions\n",
    "bits = int('0b_1111_0000', 2)"
   ]
  },
  {
   "cell_type": "code",
   "execution_count": 40,
   "metadata": {},
   "outputs": [
    {
     "data": {
      "text/plain": [
       "240"
      ]
     },
     "execution_count": 40,
     "metadata": {},
     "output_type": "execute_result"
    }
   ],
   "source": [
    "bits"
   ]
  },
  {
   "cell_type": "code",
   "execution_count": 3,
   "metadata": {},
   "outputs": [],
   "source": [
    "# secrets"
   ]
  },
  {
   "cell_type": "code",
   "execution_count": 41,
   "metadata": {},
   "outputs": [],
   "source": [
    "import secrets"
   ]
  },
  {
   "cell_type": "code",
   "execution_count": 44,
   "metadata": {},
   "outputs": [
    {
     "data": {
      "text/plain": [
       "4"
      ]
     },
     "execution_count": 44,
     "metadata": {},
     "output_type": "execute_result"
    }
   ],
   "source": [
    "secrets.choice([1, 2, 3, 4])"
   ]
  },
  {
   "cell_type": "code",
   "execution_count": 56,
   "metadata": {},
   "outputs": [
    {
     "data": {
      "text/plain": [
       "4"
      ]
     },
     "execution_count": 56,
     "metadata": {},
     "output_type": "execute_result"
    }
   ],
   "source": [
    "secrets.randbelow(5)"
   ]
  },
  {
   "cell_type": "code",
   "execution_count": 68,
   "metadata": {},
   "outputs": [
    {
     "data": {
      "text/plain": [
       "'OwybShx0'"
      ]
     },
     "execution_count": 68,
     "metadata": {},
     "output_type": "execute_result"
    }
   ],
   "source": [
    "secrets.token_urlsafe(6)"
   ]
  },
  {
   "cell_type": "code",
   "execution_count": 86,
   "metadata": {},
   "outputs": [],
   "source": [
    "# datetime disambiguation\n",
    "\n",
    "\n",
    "# 04:00:00 UTC = 00:00:00 EDT 0\n",
    "# 05:00:00 UTC = 01:00:00 EDT 0\n",
    "# 06:00:00 UTC = 01:00:00 EST 1\n",
    "# 07:00:00 UTC = 02:00:00 EST 0"
   ]
  },
  {
   "cell_type": "code",
   "execution_count": 5,
   "metadata": {},
   "outputs": [],
   "source": [
    "# dict representation\n",
    "\n",
    "# 20-25% less memory\n",
    "\n"
   ]
  },
  {
   "cell_type": "code",
   "execution_count": null,
   "metadata": {},
   "outputs": [],
   "source": [
    "# os.urandom on linux blocks to increase security\n",
    "# hashlib and ssl support openssl 1.1.0\n",
    "# ssl defaults have been improved\n",
    "# hashlib now supports blake, SHA-3, SHAKE algos\n"
   ]
  },
  {
   "cell_type": "code",
   "execution_count": 87,
   "metadata": {},
   "outputs": [],
   "source": [
    "# Just a random WTH?"
   ]
  },
  {
   "cell_type": "code",
   "execution_count": 88,
   "metadata": {},
   "outputs": [],
   "source": [
    "str_with_comments = (\"my str, part 1\\n\"   # my first comment\n",
    "                     \"my str, part 2\\n\"   # my second comment\n",
    "                     \"my str, part 3\\n\"   # my third comment\n",
    "                     )"
   ]
  },
  {
   "cell_type": "code",
   "execution_count": 89,
   "metadata": {},
   "outputs": [
    {
     "name": "stdout",
     "output_type": "stream",
     "text": [
      "my str, part 1\n",
      "my str, part 2\n",
      "my str, part 3\n",
      "\n"
     ]
    }
   ],
   "source": [
    "print(str_with_comments)"
   ]
  },
  {
   "cell_type": "code",
   "execution_count": null,
   "metadata": {},
   "outputs": [],
   "source": []
  }
 ],
 "metadata": {
  "kernelspec": {
   "display_name": "Python 3",
   "language": "python",
   "name": "python3"
  },
  "language_info": {
   "codemirror_mode": {
    "name": "ipython",
    "version": 3
   },
   "file_extension": ".py",
   "mimetype": "text/x-python",
   "name": "python",
   "nbconvert_exporter": "python",
   "pygments_lexer": "ipython3",
   "version": "3.6.4"
  }
 },
 "nbformat": 4,
 "nbformat_minor": 2
}
