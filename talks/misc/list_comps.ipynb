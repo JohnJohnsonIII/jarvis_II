{
 "cells": [
  {
   "cell_type": "code",
   "execution_count": 17,
   "metadata": {},
   "outputs": [
    {
     "data": {
      "text/plain": [
       "['1.7200', '1.5064', '1.8100', '1.8442', '2.9350', '1.7300']"
      ]
     },
     "execution_count": 17,
     "metadata": {},
     "output_type": "execute_result"
    }
   ],
   "source": [
    "beans = [23023, 23025, 23026, 23033, 40000, 40001, 40018]\n",
    "avg_diffs = [.1100, -.1036, .2000, .2342, 1.3250, .1200]\n",
    "std_calc_cost = [f'{1.4000 + diff + .2000 + .0100:.4f}' for diff in avg_diffs]\n",
    "\n",
    "# In this case, it is not necessary to use print.\n",
    "#     Notebook cells will \"evaluate\" all the code in the\n",
    "#     cell and if the last item (or in this case, only item) in the cell\n",
    "#     is a variable, it will display the value of the variable\n",
    "#     without requiring a print function call.\n",
    "# print(std_calc_cost)\n",
    "std_calc_cost"
   ]
  },
  {
   "cell_type": "code",
   "execution_count": 14,
   "metadata": {},
   "outputs": [
    {
     "data": {
      "text/plain": [
       "[(23023, '1.7200'),\n",
       " (23025, '1.5064'),\n",
       " (23026, '1.8100'),\n",
       " (23033, '1.8442'),\n",
       " (40000, '2.9350'),\n",
       " (40001, '1.7300')]"
      ]
     },
     "execution_count": 14,
     "metadata": {},
     "output_type": "execute_result"
    }
   ],
   "source": [
    "# This is not required.\n",
    "# The zip() function produces a series of tuples automagically. Sometimes\n",
    "#     seeing them takes some work, but not as much work as\n",
    "#     we have in this cell...\n",
    "\n",
    "new_std_cost = [(bean, cost) for bean, cost in zip(beans, std_calc_cost)]\n",
    "new_std_cost"
   ]
  },
  {
   "cell_type": "code",
   "execution_count": 15,
   "metadata": {},
   "outputs": [
    {
     "data": {
      "text/plain": [
       "<zip at 0x1065bc248>"
      ]
     },
     "execution_count": 15,
     "metadata": {},
     "output_type": "execute_result"
    }
   ],
   "source": [
    "# Let's evaluate what zip produces\n",
    "zip(beans, std_calc_cost)"
   ]
  },
  {
   "cell_type": "code",
   "execution_count": 16,
   "metadata": {},
   "outputs": [
    {
     "data": {
      "text/plain": [
       "[(23023, '1.7200'),\n",
       " (23025, '1.5064'),\n",
       " (23026, '1.8100'),\n",
       " (23033, '1.8442'),\n",
       " (40000, '2.9350'),\n",
       " (40001, '1.7300')]"
      ]
     },
     "execution_count": 16,
     "metadata": {},
     "output_type": "execute_result"
    }
   ],
   "source": [
    "# that is not so useful... hard to tell, but it is basically an\n",
    "#     iterable that returns tuples... upon request.\n",
    "# It produces them lazily, i.e. one at a time, when you parse through\n",
    "#     them with a for loop OR something, but if we want them all\n",
    "#     produced at once, we can put the zip into something like a \n",
    "#     list() factory function to get all the things... without\n",
    "#     requiring the hurdle of using a list comprehension, \n",
    "#     as shown below:\n",
    "\n",
    "list(zip(beans, std_calc_cost))\n"
   ]
  },
  {
   "cell_type": "code",
   "execution_count": null,
   "metadata": {},
   "outputs": [],
   "source": []
  }
 ],
 "metadata": {
  "kernelspec": {
   "display_name": "Python 3",
   "language": "python",
   "name": "python3"
  },
  "language_info": {
   "codemirror_mode": {
    "name": "ipython",
    "version": 3
   },
   "file_extension": ".py",
   "mimetype": "text/x-python",
   "name": "python",
   "nbconvert_exporter": "python",
   "pygments_lexer": "ipython3",
   "version": "3.6.4"
  }
 },
 "nbformat": 4,
 "nbformat_minor": 2
}
