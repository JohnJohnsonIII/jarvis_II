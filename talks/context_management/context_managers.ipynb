{
 "cells": [
  {
   "cell_type": "markdown",
   "metadata": {},
   "source": [
    "# Context Management:"
   ]
  },
  {
   "cell_type": "markdown",
   "metadata": {},
   "source": [
    "Probably the most common use of context managers is to manage resources (i.e. allocating and releasing resoures), such as connections to files or databases. In many cases, resources need to be handled properly (i.e. closed properly and promptly) or the underlying operating systems may balk, produce errors, or just cry piteously.\n",
    "\n",
    "Context managers are also commonly used in setup and teardown code OR any set of steps that should happen before or after a process."
   ]
  },
  {
   "cell_type": "markdown",
   "metadata": {},
   "source": [
    "Let's dive right in an use a context manager and talk about what happens under the hood.\n",
    "\n",
    "*Hat tip to Luciano Ramalho, author of Fluent Python*"
   ]
  },
  {
   "cell_type": "code",
   "execution_count": null,
   "metadata": {
    "collapsed": false
   },
   "outputs": [],
   "source": [
    "with open('war_of_the_worlds.txt') as fin:\n",
    "    first_line = fin.readline()\n",
    "    # additional code goes here...\n",
    "    \n",
    "len(first_line)    "
   ]
  },
  {
   "cell_type": "markdown",
   "metadata": {},
   "source": [
    "\n",
    "### What just happened?\n",
    "\n",
    "* `with` calls the `*.__enter__()` method\n",
    "* in this case, `open`'s `*.__enter__()` method returns the file object\n",
    "* the label `fin` is bound to the file object\n",
    "* when control flow exits the `with` block, the `*.__exit__()` method is called"
   ]
  },
  {
   "cell_type": "markdown",
   "metadata": {},
   "source": [
    "We can print the variable `first_line`"
   ]
  },
  {
   "cell_type": "code",
   "execution_count": null,
   "metadata": {
    "collapsed": false
   },
   "outputs": [],
   "source": [
    "print(first_line)"
   ]
  },
  {
   "cell_type": "markdown",
   "metadata": {},
   "source": [
    "We can access the label `fin` and see that `fin` points to an input-output file object."
   ]
  },
  {
   "cell_type": "code",
   "execution_count": null,
   "metadata": {
    "collapsed": false
   },
   "outputs": [],
   "source": [
    "repr(fin)"
   ]
  },
  {
   "cell_type": "markdown",
   "metadata": {},
   "source": [
    "If we look closely, we will see that sure enough, the file object is now closed. "
   ]
  },
  {
   "cell_type": "code",
   "execution_count": null,
   "metadata": {
    "collapsed": false
   },
   "outputs": [],
   "source": [
    "fin.closed"
   ]
  },
  {
   "cell_type": "markdown",
   "metadata": {},
   "source": [
    "Despite being closed (i.e. not able to access content in the file), we can still access certain attributes about the file object."
   ]
  },
  {
   "cell_type": "code",
   "execution_count": null,
   "metadata": {
    "collapsed": false
   },
   "outputs": [],
   "source": [
    "fin.encoding"
   ]
  },
  {
   "cell_type": "markdown",
   "metadata": {},
   "source": [
    "Just to confirm that we can't read from the file any longer..."
   ]
  },
  {
   "cell_type": "code",
   "execution_count": null,
   "metadata": {
    "collapsed": false
   },
   "outputs": [],
   "source": [
    "fin.readline()"
   ]
  },
  {
   "cell_type": "markdown",
   "metadata": {},
   "source": [
    "How does this compare with opening a file the naive way?"
   ]
  },
  {
   "cell_type": "code",
   "execution_count": null,
   "metadata": {
    "collapsed": true
   },
   "outputs": [],
   "source": [
    "fin = open(\"war_of_the_worlds.txt\")\n",
    "line_one = fin.readline()\n",
    "# additional code goes here...\n",
    "fin.close()\n",
    "\n",
    "len(line_one)"
   ]
  },
  {
   "cell_type": "markdown",
   "metadata": {},
   "source": [
    "By comparison, this seems like it only saves us one line AND yet basically does the same thing...\n",
    "\n",
    "OR does it?\n",
    "\n",
    "Let's cause an `Error` and see what happens..."
   ]
  },
  {
   "cell_type": "code",
   "execution_count": null,
   "metadata": {
    "collapsed": true
   },
   "outputs": [],
   "source": [
    "error_fin_1 = open(\"war_of_the_worlds.txt\")\n",
    "line_one = error_fin_1.readline()\n",
    "# additional code goes here...\n",
    "# blah, blah\n",
    "# blah, blah\n",
    "raise Exception  # an ERROR occurs here...\n",
    "error_fin_1.close()\n",
    "\n",
    "len(line_one)"
   ]
  },
  {
   "cell_type": "markdown",
   "metadata": {},
   "source": [
    "If we check... we see that the `Error` prevented our file from **closing**."
   ]
  },
  {
   "cell_type": "code",
   "execution_count": null,
   "metadata": {},
   "outputs": [],
   "source": [
    "error_fin_1.closed"
   ]
  },
  {
   "cell_type": "markdown",
   "metadata": {},
   "source": [
    "Raising a similar `Error` within a context manager on the other hand..."
   ]
  },
  {
   "cell_type": "code",
   "execution_count": null,
   "metadata": {
    "collapsed": true
   },
   "outputs": [],
   "source": [
    "with open('war_of_the_worlds.txt') as error_fin_2:\n",
    "    first_line = error_fin_2.readline()\n",
    "    # additional code goes here...\n",
    "    # code block, blah, blah\n",
    "    # code block, blah, blah\n",
    "    raise Exception # an ERROR occurs here...\n",
    "    \n",
    "len(first_line) "
   ]
  },
  {
   "cell_type": "markdown",
   "metadata": {},
   "source": [
    "...does **NOT** prevent the file from being closed."
   ]
  },
  {
   "cell_type": "code",
   "execution_count": null,
   "metadata": {},
   "outputs": [],
   "source": [
    "error_fin_2.closed"
   ]
  },
  {
   "cell_type": "markdown",
   "metadata": {},
   "source": [
    "### the 'as' clause is optional and will not be used in all context managers\n",
    "* Some context managers, such as `file objects`... return self \n",
    "* Some context managers return `None`\n"
   ]
  },
  {
   "cell_type": "markdown",
   "metadata": {},
   "source": [
    "# Looking Glass\n",
    "\n",
    "Let's take a look at the `Looking Glass class` that Luciano mentions in his book.\n",
    "\n",
    "Notice, this `class` has an:\n",
    "\n",
    "* `__enter__()` method\n",
    "* `__exit__()` method\n"
   ]
  },
  {
   "cell_type": "markdown",
   "metadata": {},
   "source": [
    "```python\n",
    "class LookingGlass:\n",
    "\n",
    "    def __enter__(self):\n",
    "        '''Save a reference to sys.stdout.write and overwrite\n",
    "        it with a new version.'''\n",
    "        \n",
    "        import sys\n",
    "        self.original_write = sys.stdout.write\n",
    "        sys.stdout.write = self.reverse_write\n",
    "        return 'JABBERWOCKY'\n",
    "\n",
    "    def reverse_write(self, text):\n",
    "        '''Write text, in reverse order to standard out'''\n",
    "        \n",
    "        self.original_write(text[::-1])\n",
    "\n",
    "    def __exit__(self, exc_type, exc_value, traceback):\n",
    "        '''Set everything back to normal'''\n",
    "        \n",
    "        import sys\n",
    "        sys.stdout.write = self.original_write\n",
    "        if exc_type is ZeroDivisionError:\n",
    "            print('Please do not divide by zero!')\n",
    "            return True\n",
    "```"
   ]
  },
  {
   "cell_type": "markdown",
   "metadata": {},
   "source": [
    "We have a copy of this `class` in the accompanying file: `mirror.py`"
   ]
  },
  {
   "cell_type": "code",
   "execution_count": null,
   "metadata": {
    "collapsed": true
   },
   "outputs": [],
   "source": [
    "from mirror import LookingGlass"
   ]
  },
  {
   "cell_type": "code",
   "execution_count": null,
   "metadata": {
    "collapsed": false
   },
   "outputs": [],
   "source": [
    "with LookingGlass() as cm_obj:\n",
    "    print('This is backwards!')\n",
    "    raise Exception\n",
    "    "
   ]
  },
  {
   "cell_type": "code",
   "execution_count": null,
   "metadata": {
    "collapsed": false
   },
   "outputs": [],
   "source": [
    "print('hello')\n",
    "print('Elvis has left the building')\n",
    "    "
   ]
  },
  {
   "cell_type": "code",
   "execution_count": null,
   "metadata": {},
   "outputs": [],
   "source": [
    "print('hello')"
   ]
  },
  {
   "cell_type": "code",
   "execution_count": null,
   "metadata": {
    "collapsed": false
   },
   "outputs": [],
   "source": [
    "with LookingGlass() as cm_obj:\n",
    "    print(cm_obj)\n",
    "    print('reversed')\n",
    "    "
   ]
  },
  {
   "cell_type": "code",
   "execution_count": null,
   "metadata": {
    "collapsed": false
   },
   "outputs": [],
   "source": [
    "print(cm_obj)"
   ]
  },
  {
   "cell_type": "code",
   "execution_count": null,
   "metadata": {
    "collapsed": false
   },
   "outputs": [],
   "source": [
    "print('Back from wonderland')"
   ]
  },
  {
   "cell_type": "markdown",
   "metadata": {},
   "source": [
    "## Another example... database connection"
   ]
  },
  {
   "cell_type": "code",
   "execution_count": null,
   "metadata": {},
   "outputs": [],
   "source": [
    "import sqlite3\n",
    "\n",
    "class DatabaseConnector:\n",
    "    def __init__(self, database):\n",
    "        self.database = database\n",
    "        \n",
    "    def __enter__(self):\n",
    "        self.conn = sqlite3.connect(self.database)\n",
    "        return self.conn\n",
    "    \n",
    "    def __exit__(self, exc_type, exc_value, exc_traceback):\n",
    "        self.conn.close()\n",
    "        \n",
    "database = 'sample.db'\n",
    "with DatabaseConnector(database) as conn:\n",
    "    cursor = conn.cursor()\n",
    "    "
   ]
  },
  {
   "cell_type": "markdown",
   "metadata": {},
   "source": [
    "## Using a context manager without a with block"
   ]
  },
  {
   "cell_type": "code",
   "execution_count": null,
   "metadata": {
    "collapsed": false
   },
   "outputs": [],
   "source": [
    "from mirror import LookingGlass\n",
    "manager = LookingGlass()\n",
    "manager"
   ]
  },
  {
   "cell_type": "code",
   "execution_count": null,
   "metadata": {
    "collapsed": false
   },
   "outputs": [],
   "source": [
    "monster = manager.__enter__()\n",
    "print(monster == 'JABBERWOCKY')\n"
   ]
  },
  {
   "cell_type": "code",
   "execution_count": null,
   "metadata": {},
   "outputs": [],
   "source": [
    "print('backwards')"
   ]
  },
  {
   "cell_type": "code",
   "execution_count": null,
   "metadata": {
    "collapsed": false
   },
   "outputs": [],
   "source": []
  },
  {
   "cell_type": "code",
   "execution_count": null,
   "metadata": {
    "collapsed": false
   },
   "outputs": [],
   "source": [
    "manager.__exit__(None, None, None)"
   ]
  },
  {
   "cell_type": "code",
   "execution_count": null,
   "metadata": {
    "collapsed": false
   },
   "outputs": [],
   "source": [
    "print('hello')"
   ]
  },
  {
   "cell_type": "markdown",
   "metadata": {},
   "source": [
    "# Where are context managers used?\n",
    "\n",
    "* `Path` objects in `pathlib`\n",
    "* `ZipFile` objects in `zipfile`\n",
    "* `Popen` objects in `subprocess`\n",
    "* `TarFile` objects in `tarfile`\n",
    "* `Lock` objects in `threading`\n",
    "* `Telnet` objects in `telnetlib`\n",
    "* `StringIO` objects in `io`\n",
    "* `patch` objects in `mock`\n",
    "\n",
    "and more!"
   ]
  },
  {
   "cell_type": "markdown",
   "metadata": {},
   "source": [
    "# contextlib"
   ]
  },
  {
   "cell_type": "code",
   "execution_count": null,
   "metadata": {},
   "outputs": [],
   "source": [
    "from contextlib import contextmanager\n",
    "\n",
    "@contextmanager\n",
    "def open_file(path, mode):\n",
    "    print('about to open file')\n",
    "    the_file = open(path, mode)\n",
    "    yield the_file\n",
    "    print('closing file')\n",
    "    the_file.close()"
   ]
  },
  {
   "cell_type": "code",
   "execution_count": null,
   "metadata": {},
   "outputs": [],
   "source": [
    "files = []\n",
    "\n",
    "for x in range(10):\n",
    "    with open_file('foo.txt', 'w') as infile:\n",
    "        files.append(infile)"
   ]
  },
  {
   "cell_type": "code",
   "execution_count": null,
   "metadata": {},
   "outputs": [],
   "source": [
    "for f in files:\n",
    "    if not f.closed:\n",
    "        print('not closed')"
   ]
  },
  {
   "cell_type": "code",
   "execution_count": null,
   "metadata": {},
   "outputs": [],
   "source": [
    "files"
   ]
  },
  {
   "cell_type": "code",
   "execution_count": null,
   "metadata": {},
   "outputs": [],
   "source": []
  }
 ],
 "metadata": {
  "anaconda-cloud": {},
  "kernelspec": {
   "display_name": "Python 3",
   "language": "python",
   "name": "python3"
  },
  "language_info": {
   "codemirror_mode": {
    "name": "ipython",
    "version": 3
   },
   "file_extension": ".py",
   "mimetype": "text/x-python",
   "name": "python",
   "nbconvert_exporter": "python",
   "pygments_lexer": "ipython3",
   "version": "3.6.4"
  }
 },
 "nbformat": 4,
 "nbformat_minor": 2
}
