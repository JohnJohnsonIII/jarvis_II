{
 "cells": [
  {
   "cell_type": "markdown",
   "metadata": {},
   "source": [
    "# Sorting in a nutshell"
   ]
  },
  {
   "cell_type": "markdown",
   "metadata": {},
   "source": [
    "This is based heavily on the Python Wiki HowTo on Sorting.\n",
    "There is additional explanatory material to be found there, as well as several other examples.\n",
    "https://wiki.python.org/moin/HowTo/Sorting\n",
    "The source material and this material are distributed under a GPL license."
   ]
  },
  {
   "cell_type": "markdown",
   "metadata": {},
   "source": [
    "## The difference between `sorted()` and `list.sort()`"
   ]
  },
  {
   "cell_type": "markdown",
   "metadata": {},
   "source": [
    "Given a list of ages... we can sort them using the sorted() function."
   ]
  },
  {
   "cell_type": "code",
   "execution_count": null,
   "metadata": {},
   "outputs": [],
   "source": [
    "ages = [33, 32, 35, 31, 29, 42]\n",
    "sorted(ages)"
   ]
  },
  {
   "cell_type": "markdown",
   "metadata": {},
   "source": [
    "`sorted()` produces a new `list`, notice the original `list` is unchanged:"
   ]
  },
  {
   "cell_type": "code",
   "execution_count": null,
   "metadata": {},
   "outputs": [],
   "source": [
    "ages                      # the list is not changed"
   ]
  },
  {
   "cell_type": "markdown",
   "metadata": {},
   "source": [
    "`sorted()` can be used on any iterable, not just lists.\n",
    "\n",
    "`list.sort()` on the other hand, is a method of lists, and thus is only usable with lists."
   ]
  },
  {
   "cell_type": "code",
   "execution_count": null,
   "metadata": {
    "collapsed": true
   },
   "outputs": [],
   "source": [
    "ages.sort()               # lists have a method, called L.sort()\n",
    "                          # the method returns None"
   ]
  },
  {
   "cell_type": "code",
   "execution_count": null,
   "metadata": {},
   "outputs": [],
   "source": [
    "ages                      # the list is now permanently changed"
   ]
  },
  {
   "cell_type": "markdown",
   "metadata": {},
   "source": [
    "## Using sorted with dictionaries..."
   ]
  },
  {
   "cell_type": "code",
   "execution_count": null,
   "metadata": {},
   "outputs": [],
   "source": [
    "greek = {1: 'Alpha',\n",
    "         4: 'Delta',\n",
    "         3: 'Gamma',\n",
    "         2: 'Bravo',\n",
    "         5: 'Epsilon'}\n",
    "\n",
    "sorted(greek)             # As noted above, any iterable can be sorted\n",
    "                          # in this case, the dictionary is\n",
    "                          # sorted by key, but only keys get returned"
   ]
  },
  {
   "cell_type": "code",
   "execution_count": null,
   "metadata": {},
   "outputs": [],
   "source": [
    " # The above sort is the same as if you had called D.keys()\n",
    "\n",
    "sorted(greek.keys())"
   ]
  },
  {
   "cell_type": "code",
   "execution_count": null,
   "metadata": {},
   "outputs": [],
   "source": [
    "# To get back the values in sorted order, we call the D.values()\n",
    "#     method\n",
    "\n",
    "sorted(greek.values())"
   ]
  },
  {
   "cell_type": "code",
   "execution_count": null,
   "metadata": {},
   "outputs": [],
   "source": [
    "# To return the key, value pairs, we should sort on D.items()\n",
    "# NOTE: this, like all sorted outputs, returns a list.\n",
    "#       In this case, though, it is a list of tuples.\n",
    "\n",
    "\n",
    "sorted(greek.items())"
   ]
  },
  {
   "cell_type": "markdown",
   "metadata": {},
   "source": [
    "# The key to real magic"
   ]
  },
  {
   "cell_type": "markdown",
   "metadata": {},
   "source": [
    "Sometimes, the default sorting algorithm does things that you may not want OR expect.\n",
    "Under the hood, it sorts items in \"ASCII-betical\" order. The order in which characters are present in the ASCII table.\n",
    "\n",
    "\n",
    "* NOTE: this is not one-hundred percent true... it sorts in `Unicode-betical` order, but that doesn't roll off the tongue."
   ]
  },
  {
   "cell_type": "markdown",
   "metadata": {},
   "source": [
    "<img src=\"images/ascii_table.png\" width=400px>"
   ]
  },
  {
   "cell_type": "code",
   "execution_count": null,
   "metadata": {},
   "outputs": [],
   "source": [
    "letters = ['b', 'E', 'd', 'A', 'C']\n",
    "\n",
    "sorted(letters)"
   ]
  },
  {
   "cell_type": "markdown",
   "metadata": {},
   "source": [
    "If we use the `key` parameter to apply a sorting mechanism, we can alter the default behavior.\n",
    "\n",
    "If we were to sort a list:\n",
    "* `key` parameter allows us to provide a tool (a function) that looks at a single element at a time\n",
    "* the function returns a single value at a time that can be sorted according to Python's regular ASCII-betical rules\n",
    "NOTE: the returned value is ONLY used to help sort... it is not stored in the list that sorted produces\n",
    "\n",
    "Let's look at an example:"
   ]
  },
  {
   "cell_type": "code",
   "execution_count": null,
   "metadata": {},
   "outputs": [],
   "source": [
    "# Here, we use the upper() method found on str methods.\n",
    "# For those not familiar with using the str class and its methods...\n",
    "# Any string you place in the str.upper() method is converted to upper case and returned\n",
    "\n",
    "str.upper('this will be capitalized')"
   ]
  },
  {
   "cell_type": "code",
   "execution_count": null,
   "metadata": {},
   "outputs": [],
   "source": [
    "# We can use this behavior to sort the values in the list as though they were all \n",
    "#     upper case.\n",
    "\n",
    "# NOTE: we will not include the parenthesis after str.upper in the following code...\n",
    "#       we simply provide the name of the method that should be called\n",
    "#       when Python needs to do the sorting, it will take the named \n",
    "#       method and call it repeatedly, once for each element in the \n",
    "#       list. Essentially it will do this for us, behind the scenes:\n",
    "#       str.upper('b')  > 'B'\n",
    "#       str.upper('E')  > 'E'\n",
    "#       str.upper('d')  > 'D'\n",
    "#       str.upper('A')  > 'A'\n",
    "#       str.upper('C')  > 'C'\n",
    "\n",
    "sorted(letters, key=str.upper)\n"
   ]
  },
  {
   "cell_type": "markdown",
   "metadata": {},
   "source": [
    "## We can sort very sophisticated objects..."
   ]
  },
  {
   "cell_type": "markdown",
   "metadata": {},
   "source": [
    "Say we are given a list of lists OR list of tuples... that we want to sort, but we want to sort them by one of the values found inside the subtuples.\n",
    "\n",
    "For example, let's say we have data on a collection of superheroes and we want to sort by first names."
   ]
  },
  {
   "cell_type": "code",
   "execution_count": null,
   "metadata": {
    "collapsed": true
   },
   "outputs": [],
   "source": [
    "heroes = [('batman', 'bruce',  'wayne', 1972),\n",
    "          ('wonder woman', 'diana', 'prince', 1974), \n",
    "          ('martian manhunter', 'john', 'jones', 1972),\n",
    "          ('hellblazer', 'john', 'constantine', 1975)]"
   ]
  },
  {
   "cell_type": "markdown",
   "metadata": {},
   "source": [
    "A simple call to `sorted()` fails to deliver my desired results"
   ]
  },
  {
   "cell_type": "code",
   "execution_count": null,
   "metadata": {},
   "outputs": [],
   "source": [
    "sorted(heroes)\n",
    "\n",
    "# will end up being sorted by first element...\n",
    "#     for those who wonder, it actually cascades down...\n",
    "#     if the first elements were identical, it would sort by second item, third, etc.\n",
    "\n",
    "# >>> a = [(1, 5, 6), (2, 3, 5), (2, 3, 4), (1, 5, 1)]\n",
    "# >>> sorted(a)\n",
    "# [(1, 5, 1), (1, 5, 6), (2, 3, 4), (2, 3, 5)]\n"
   ]
  },
  {
   "cell_type": "code",
   "execution_count": null,
   "metadata": {
    "collapsed": true
   },
   "outputs": [],
   "source": [
    "# ANY function can be used as the key\n",
    "# provided it takes a single argument\n",
    "# AND\n",
    "# it returns a value that can be used for sorting purposes\n",
    "# Alphabetical\n",
    "# Numerical\n",
    "# Boolean (True | False)"
   ]
  },
  {
   "cell_type": "markdown",
   "metadata": {},
   "source": [
    "Since we don't readily have a builtin function in Python that returns first names, let's make one..."
   ]
  },
  {
   "cell_type": "code",
   "execution_count": null,
   "metadata": {},
   "outputs": [],
   "source": [
    "# Given: ('batman', 'bruce',  'wayne', 1972)\n",
    "#     firstname is in position one.\n",
    "#     remember, we start counting at zero in Python\n",
    "\n",
    "def fname(hero):\n",
    "    return hero[1]\n",
    "\n",
    "sorted(heroes, key=fname)\n",
    "\n",
    "# Python produces a STABLE SORT...\n",
    "\n",
    "# heroes = [('batman', 'bruce',  'wayne', 1972),\n",
    "#           ('wonder woman', 'diana', 'prince', 1974), \n",
    "#           ('martian manhunter', 'john', 'jones', 1972),\n",
    "#           ('hellblazer', 'john', 'constantine', 1975)]\n",
    "\n"
   ]
  },
  {
   "cell_type": "markdown",
   "metadata": {},
   "source": [
    "In some cases, folks feel that making a full-blown function with a name, with all the syntax, etc \n",
    "\n",
    "is just too much..."
   ]
  },
  {
   "cell_type": "markdown",
   "metadata": {},
   "source": [
    "`lambdas` are great for use in this case"
   ]
  },
  {
   "cell_type": "markdown",
   "metadata": {},
   "source": [
    "Let's convert `fname` to a lambda:\n",
    "\n",
    "```python\n",
    "def fname(hero):             # given a hero tuple\n",
    "    return hero[1]           # return the item in position one \n",
    "```    \n",
    "becomes this (and mentally is read the same way!)\n",
    "```python\n",
    "lambda hero: hero[1]         # given a hero tuple\n",
    "                             # return the item in position one\n",
    "```"
   ]
  },
  {
   "cell_type": "code",
   "execution_count": null,
   "metadata": {},
   "outputs": [],
   "source": [
    "sorted(heroes, key=lambda hero: hero[1])"
   ]
  },
  {
   "cell_type": "code",
   "execution_count": null,
   "metadata": {
    "collapsed": true
   },
   "outputs": [],
   "source": [
    "class Hero:\n",
    "    def __init__(self, name, fname, lname, birthyear):\n",
    "        self.name = name\n",
    "        self.fname = fname\n",
    "        self.lname = lname\n",
    "        self.birthyear = birthyear\n",
    "    \n",
    "    def __repr__(self):\n",
    "        return repr((self.name, self.fname, self.lname, self.birthyear))\n",
    "    \n",
    "    def age(self):\n",
    "        current_year = 2017\n",
    "        return current_year - self.birthyear"
   ]
  },
  {
   "cell_type": "code",
   "execution_count": null,
   "metadata": {},
   "outputs": [],
   "source": [
    "h = Hero('batman', 'bruce', 'wayne', 1972)\n",
    "h"
   ]
  },
  {
   "cell_type": "code",
   "execution_count": null,
   "metadata": {},
   "outputs": [],
   "source": [
    "h.age()"
   ]
  },
  {
   "cell_type": "markdown",
   "metadata": {},
   "source": [
    "Using our `Hero` class, we can make a list of hero objects:"
   ]
  },
  {
   "cell_type": "code",
   "execution_count": null,
   "metadata": {
    "collapsed": true
   },
   "outputs": [],
   "source": [
    "hero_classes = [Hero('batman', 'bruce',  'wayne', 1972),\n",
    "                Hero('wonder woman', 'diana', 'prince', 1974), \n",
    "                Hero('martian manhunter', 'john', 'jones', 1972),\n",
    "                Hero('hellblazer', 'john', 'constantine', 1975)]"
   ]
  },
  {
   "cell_type": "markdown",
   "metadata": {},
   "source": [
    "The `key` parameter can be used to look at attributes of the hero etc..."
   ]
  },
  {
   "cell_type": "code",
   "execution_count": null,
   "metadata": {},
   "outputs": [],
   "source": [
    "sorted(hero_classes, key=lambda hero: hero.birthyear)"
   ]
  },
  {
   "cell_type": "markdown",
   "metadata": {},
   "source": [
    "Knowing that getting an attribute of an object OR extracting the item in position x is a common occurence, Python has got you covered and provided standardized functions to do this...\n",
    "\n",
    "They even include a function that will call methods on objects.\n",
    "\n",
    "All this can be found in the operator library."
   ]
  },
  {
   "cell_type": "code",
   "execution_count": null,
   "metadata": {},
   "outputs": [],
   "source": [
    "from operator import itemgetter\n",
    "\n",
    "# for this case, we will re-use the heroes list that \n",
    "#     contained tuples.\n",
    "# Our goal this time is again to sort by first name i.e. to sort \n",
    "#     by the elements with index one in each tuple\n",
    "\n",
    "sorted(heroes, key=itemgetter(1))"
   ]
  },
  {
   "cell_type": "code",
   "execution_count": null,
   "metadata": {},
   "outputs": [],
   "source": [
    "# Jumping back to the Hero objects...\n",
    "# We can use attrgetter to extract, for sorting purposes, the \n",
    "#     birthyear attribute of each Hero object\n",
    "\n",
    "from operator import attrgetter\n",
    "\n",
    "sorted(hero_classes, key=attrgetter('birthyear'))"
   ]
  },
  {
   "cell_type": "code",
   "execution_count": null,
   "metadata": {},
   "outputs": [],
   "source": [
    "# itemgetter allows you to sort by more than one item from a collection:\n",
    "# Here we sort by first name\n",
    "#     and then by last name...\n",
    "\n",
    "\n",
    "sorted(heroes, key=itemgetter(1, 2))"
   ]
  },
  {
   "cell_type": "code",
   "execution_count": null,
   "metadata": {},
   "outputs": [],
   "source": [
    "# Here we sort by first name\n",
    "#     and then by birthyear\n",
    "\n",
    "\n",
    "sorted(heroes, key=itemgetter(1, 3))"
   ]
  },
  {
   "cell_type": "code",
   "execution_count": null,
   "metadata": {},
   "outputs": [],
   "source": [
    "# attrgetter lets us sort by multiple attributes...\n",
    "\n",
    "# The sorted method also allows us to reverse the order if needed.\n",
    "#   descending sort\n",
    "\n",
    "\n",
    "sorted(hero_classes, key=attrgetter('birthyear', 'lname'), reverse=True)"
   ]
  },
  {
   "cell_type": "code",
   "execution_count": null,
   "metadata": {},
   "outputs": [],
   "source": [
    "# If our object has a method, we can sort by that method, as well.\n",
    "\n",
    "from operator import methodcaller\n",
    "\n",
    "sorted(hero_classes, key=methodcaller('age'))"
   ]
  },
  {
   "cell_type": "code",
   "execution_count": null,
   "metadata": {},
   "outputs": [],
   "source": [
    "heroes_by_fname = sorted(hero_classes, key=attrgetter('fname'), reverse=True)\n",
    "heroes_by_fname"
   ]
  },
  {
   "cell_type": "code",
   "execution_count": null,
   "metadata": {},
   "outputs": [],
   "source": [
    "# Follow on sorts benefit from Python's STABLE SORT...\n",
    "#     Even though we are now sorting by age,\n",
    "#     stable sort will maintain the first name order of the heroes\n",
    "#     within each age bracket.\n",
    "\n",
    "sorted(heroes_by_fname, key=methodcaller('age'))"
   ]
  },
  {
   "cell_type": "code",
   "execution_count": null,
   "metadata": {
    "collapsed": true
   },
   "outputs": [],
   "source": [
    "# Sometimes it is convenient to sort items via some sort of \n",
    "#     a lookup table.\n",
    "# Maybe what you care about is stored separately...\n",
    "\n",
    "hero_names = ['batman', 'martian manhunter', 'wonder woman', 'hellblazer']\n",
    "\n",
    "vacationdays = {'batman': 25,\n",
    "                'martian manhunter': 15,\n",
    "                'wonder woman': 9,\n",
    "                'hellblazer': 65}"
   ]
  },
  {
   "cell_type": "code",
   "execution_count": null,
   "metadata": {},
   "outputs": [],
   "source": [
    "# The D.__getitem__() method takes a dictionary key and returns the value.\n",
    "# It is identical to D[key]\n",
    "\n",
    "# The application of D.__getitem__() is that it is a function that takes one item and\n",
    "#     returns one item and can thus be used to sort...\n",
    "\n",
    "\n",
    "print(vacationdays['batman'])\n",
    "print(vacationdays.__getitem__('batman'))"
   ]
  },
  {
   "cell_type": "code",
   "execution_count": null,
   "metadata": {},
   "outputs": [],
   "source": [
    "# So to sort by vacation days in descending order... \n",
    "\n",
    "sorted(hero_names, key=vacationdays.__getitem__, reverse=True)"
   ]
  },
  {
   "cell_type": "code",
   "execution_count": null,
   "metadata": {
    "collapsed": true
   },
   "outputs": [],
   "source": []
  },
  {
   "cell_type": "code",
   "execution_count": null,
   "metadata": {
    "collapsed": true
   },
   "outputs": [],
   "source": []
  },
  {
   "cell_type": "markdown",
   "metadata": {},
   "source": [
    "# Backup"
   ]
  },
  {
   "cell_type": "code",
   "execution_count": null,
   "metadata": {
    "collapsed": true
   },
   "outputs": [],
   "source": [
    "https://writeonly.wordpress.com/2008/08/30/sorting-dictionaries-by-value-in-python-improved/\n",
    "    \n",
    "    \n",
    "\n",
    "from operator import itemgetter\n",
    "def sbv6(d,reverse=False):\n",
    "    ''' proposed in PEP 265, using  the itemgetter '''\n",
    "    return sorted(d.iteritems(), key=itemgetter(1), reverse=True)"
   ]
  },
  {
   "cell_type": "code",
   "execution_count": null,
   "metadata": {
    "collapsed": true
   },
   "outputs": [],
   "source": [
    "https://stackoverflow.com/questions/613183/how-do-i-sort-a-dictionary-by-value\n",
    "    "
   ]
  }
 ],
 "metadata": {
  "anaconda-cloud": {},
  "kernelspec": {
   "display_name": "Python 3",
   "language": "python",
   "name": "python3"
  },
  "language_info": {
   "codemirror_mode": {
    "name": "ipython",
    "version": 3
   },
   "file_extension": ".py",
   "mimetype": "text/x-python",
   "name": "python",
   "nbconvert_exporter": "python",
   "pygments_lexer": "ipython3",
   "version": "3.6.4"
  }
 },
 "nbformat": 4,
 "nbformat_minor": 1
}
