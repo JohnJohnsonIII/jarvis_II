{
 "cells": [
  {
   "cell_type": "markdown",
   "metadata": {
    "slideshow": {
     "slide_type": "slide"
    }
   },
   "source": [
    "\n",
    "# Why Python?\n",
    "## A demonstration\n",
    "\n",
    "<img src='../../images/dark_art_logo.600px.png' height='250' width='300' style=\"float:right\">"
   ]
  },
  {
   "cell_type": "markdown",
   "metadata": {
    "slideshow": {
     "slide_type": "slide"
    }
   },
   "source": [
    "# who am i?\n",
    "---\n",
    "## `chalmer lowe`\n",
    "<img src='images/tony_stark_small.png' height='250' width='300' style=\"float:right\">\n",
    "* Chair/Co-chair: Python Education Summit\n",
    "* Staff member: Pycon\n",
    "* Speaker: Pycon, PyOhio, PyData\n",
    "* Instructor: University of Hawaii & Champlain College\n",
    "* Founder: PyHawaii\n",
    "* Founder: The Dark Art of Coding\n",
    "* Organizer: PyNow! Conference\n",
    "* Guest speaker: Johns Hopkins, InfraGard\n",
    "* Master of Science: Information Technology\n",
    "* Cyber, Python, DataSci guy\n",
    "* Husband, Dad\n",
    "* Boardgamer\n",
    "* Ironman\n",
    "\n"
   ]
  },
  {
   "cell_type": "markdown",
   "metadata": {
    "slideshow": {
     "slide_type": "slide"
    }
   },
   "source": [
    "# Agenda\n",
    "---\n",
    "\n",
    "* Why scripting?\n",
    "* Why Python?\n",
    "* Demo: find the line...\n",
    "* Demo: where did it go?\n",
    "* Demo: show and tell\n",
    "* Demo: let's play, bokeh\n"
   ]
  },
  {
   "cell_type": "markdown",
   "metadata": {},
   "source": [
    "# Why scripting?\n",
    "---\n",
    "\n",
    "* Eliminate boring and repetitive tasks\n",
    "* Enable tradecraft sharing\n",
    "* Eliminate manual labor\n",
    "* Formalize tradecraft\n",
    "* Reduce errors"
   ]
  },
  {
   "cell_type": "markdown",
   "metadata": {
    "slideshow": {
     "slide_type": "subslide"
    }
   },
   "source": [
    "# Why Python?\n",
    "---\n",
    "\n",
    "\n",
    "## A brief history... from alpha to zed\n",
    "\n",
    "* A dutchman\n",
    "* DARPA\n",
    "* ABC\n"
   ]
  },
  {
   "cell_type": "markdown",
   "metadata": {
    "slideshow": {
     "slide_type": "subslide"
    }
   },
   "source": [
    "<img src='python_users.png'>"
   ]
  },
  {
   "cell_type": "markdown",
   "metadata": {},
   "source": [
    "# Who is hiring?\n",
    "---\n",
    "\n",
    "* facebook\n",
    "* twitter\n",
    "* linkedin\n",
    "* microsoft\n",
    "* dropbox\n",
    "* google\n",
    "* booz allen hamilton\n",
    "* and more..."
   ]
  },
  {
   "cell_type": "markdown",
   "metadata": {
    "slideshow": {
     "slide_type": "subslide"
    }
   },
   "source": [
    "# What is it used for?\n",
    "---\n",
    "\n",
    "* System administration\n",
    "* Web development\n",
    "* App development\n",
    "* Computer-generated graphics\n",
    "* Data science\n",
    "* Data visualization\n",
    "* and more... \n"
   ]
  },
  {
   "cell_type": "markdown",
   "metadata": {},
   "source": [
    "# Demo: find the line...\n",
    "---\n",
    "\n",
    "* Find every line that contains...\n"
   ]
  },
  {
   "cell_type": "code",
   "execution_count": null,
   "metadata": {
    "collapsed": true
   },
   "outputs": [],
   "source": [
    "# Demo: find the line...\n",
    "# Given a file, called hero_logs.csv:\n",
    "# Find all the rows with a latitude of 45.*\n",
    "\n",
    "\n",
    "    \n",
    "    \n",
    "    \n"
   ]
  },
  {
   "cell_type": "markdown",
   "metadata": {},
   "source": [
    "# Demo: where did it go?\n",
    "---\n",
    "\n",
    "* Find lines that are missing data\n",
    "* Count the total lines\n",
    "* Count the corrupt lines\n"
   ]
  },
  {
   "cell_type": "code",
   "execution_count": null,
   "metadata": {
    "collapsed": true
   },
   "outputs": [],
   "source": [
    "# Demo: where did it go?\n",
    "# Given a file, called hero_logs_na.csv:\n",
    "# Find the lines with missing data\n",
    "# Count the total lines\n",
    "# Count the corrupt lines\n",
    "\n",
    "\n",
    "    \n",
    "    \n"
   ]
  },
  {
   "cell_type": "markdown",
   "metadata": {},
   "source": [
    "# Demo: show and tell\n",
    "---\n",
    "\n",
    "* Deduplicate and count the cities\n",
    "* Create a simply formatted output\n",
    "* Sort the results, by hero"
   ]
  },
  {
   "cell_type": "code",
   "execution_count": null,
   "metadata": {
    "collapsed": true
   },
   "outputs": [],
   "source": [
    "# Demo: show and tell\n",
    "# Given a file, called hero_logs.csv:\n",
    "# extract the hero's name\n",
    "# Count the number of times each hero shows up\n",
    "# Display the counts alphabetically, by hero name\n",
    "\n",
    "\n",
    "   "
   ]
  },
  {
   "cell_type": "markdown",
   "metadata": {},
   "source": [
    "# Demo: let's play, bokeh\n",
    "---\n",
    "\n",
    "* Let's make a picture..."
   ]
  },
  {
   "cell_type": "code",
   "execution_count": null,
   "metadata": {
    "collapsed": true
   },
   "outputs": [],
   "source": [
    "from bokeh.plotting import figure, show, output_notebook\n",
    "from bokeh.sampledata.iris import flowers\n",
    "\n",
    "# flowers is pandas dataframe >>> like an excel spreadsheet in memory\n",
    "# let's look at just the first six rows...\n",
    "\n",
    "flowers.head(6)"
   ]
  },
  {
   "cell_type": "code",
   "execution_count": null,
   "metadata": {
    "collapsed": true
   },
   "outputs": [],
   "source": [
    "colormap = {'setosa': 'red',\n",
    "            'versicolor': 'green',\n",
    "            'virginica': 'blue'}\n",
    "\n",
    "colors = [colormap[each_flower] for each_flower in flowers['species']]\n",
    "colors[::10]"
   ]
  },
  {
   "cell_type": "code",
   "execution_count": null,
   "metadata": {
    "collapsed": true
   },
   "outputs": [],
   "source": [
    "p = figure(title = \"Iris Morphology\")\n",
    "\n",
    "p.xaxis.axis_label = 'Petal Length'\n",
    "p.yaxis.axis_label = 'Petal Width'\n",
    "\n",
    "p.circle(flowers[\"petal_length\"],      # x values\n",
    "         flowers[\"petal_width\"],       # y values\n",
    "         color=colors, \n",
    "         fill_alpha=0.2, \n",
    "         size=10)\n",
    "\n",
    "\n",
    "output_notebook()\n",
    "show(p)"
   ]
  },
  {
   "cell_type": "code",
   "execution_count": null,
   "metadata": {
    "collapsed": true
   },
   "outputs": [],
   "source": []
  },
  {
   "cell_type": "markdown",
   "metadata": {
    "slideshow": {
     "slide_type": "slide"
    }
   },
   "source": [
    "# My favorite book(s)!\n",
    "\n",
    "**<a href='http://www.amazon.com/Automate-Boring-Stuff-Python-Programming-ebook/dp/B00WJ049VU/ref=dp_kinw_strp_1'>Automate the Boring Stuff with Python</a>**\n",
    "* Chaps. 1-6 >>> **the basics**\n",
    "* Select Topics from Chaps. 7-18 >>> **automating things**\n",
    "   * Search for text\n",
    "   * Create, update, move, and rename files and folders\n",
    "   * Search the Web and download online content\n",
    "   * Update and format data in Excel\n",
    "   * Manipulate PDFs\n",
    "   * Send emails and text notifications\n",
    "   * Fill out online forms\n",
    "\n",
    "## More books...\n",
    "\n",
    "https://darkartofcoding.com/learning-resources/learning-resources-books/"
   ]
  },
  {
   "cell_type": "markdown",
   "metadata": {},
   "source": [
    "# My favorite learning technique: \n",
    "# `puzzles, puzzles, puzzles...`\n",
    "\n",
    "https://darkartofcoding.com/learning-resources/learning-resources-puzzles/"
   ]
  },
  {
   "cell_type": "markdown",
   "metadata": {},
   "source": [
    "# My class material:\n",
    "\n",
    "https://github.com/chalmerlowe/jarvis_II"
   ]
  },
  {
   "cell_type": "code",
   "execution_count": null,
   "metadata": {
    "collapsed": true
   },
   "outputs": [],
   "source": []
  },
  {
   "cell_type": "markdown",
   "metadata": {
    "collapsed": true
   },
   "source": [
    "# BACKUP DATA\n",
    "---\n",
    "\n",
    "Excel is limited to 1,048,576 rows \n",
    "\n",
    "https://support.office.com/en-us/article/excel-specifications-and-limits-1672b34d-7043-467e-8e27-269d656771c3?ocmsassetID=HA103980614&CTT=1&CorrelationId=d7c6a034-4c09-4259-9b14-62420cea120d&ui=en-US&rs=en-US&ad=US"
   ]
  },
  {
   "cell_type": "code",
   "execution_count": null,
   "metadata": {
    "collapsed": true
   },
   "outputs": [],
   "source": [
    "# Demo: find the line...\n",
    "# Given a file, called hero_logs.csv:\n",
    "# Find all the rows with a latitude of 45\n",
    "\n",
    "file_in = open('hero_logs.csv')\n",
    "for line in file_in:\n",
    "    fields = line.strip().split(',')\n",
    "    lat = fields[5]\n",
    "    if lat.startswith('45'):\n",
    "        print(lat)\n",
    "    \n",
    "    \n",
    "    \n"
   ]
  },
  {
   "cell_type": "code",
   "execution_count": null,
   "metadata": {
    "collapsed": true
   },
   "outputs": [],
   "source": [
    "# Demo: where did it go?\n",
    "# Given a file, called hero_logs_na.csv:\n",
    "# Find the lines with missing data\n",
    "# Count the total lines\n",
    "# Count the corrupt lines\n",
    "\n",
    "file_in = open('hero_logs_na.csv')\n",
    "\n",
    "total_count = 0\n",
    "corrupt_count = 0\n",
    "\n",
    "for line in file_in:\n",
    "    total_count += 1\n",
    "    line = line.strip()\n",
    "    fields = line.split(',')\n",
    "    *junk, lat, long = fields    \n",
    "    if lat == '' and long == '':\n",
    "        corrupt_count += 1\n",
    "        print(line)\n",
    "\n",
    "print()\n",
    "print('corrupt lines', corrupt_count)\n",
    "print('total lines', total_count)\n",
    "    "
   ]
  },
  {
   "cell_type": "code",
   "execution_count": null,
   "metadata": {
    "collapsed": true
   },
   "outputs": [],
   "source": [
    "# Demo: show and tell\n",
    "# Given a file, called hero_logs.csv:\n",
    "# extract the hero's name\n",
    "# Count the number of times each hero shows up\n",
    "# Display the counts alphabetically, by hero name\n",
    "\n",
    "from collections import defaultdict\n",
    "heroes = defaultdict(int)\n",
    "\n",
    "file_in = open('hero_logs.csv')\n",
    "for line in file_in:\n",
    "    fields = line.strip().split(',')\n",
    "    hero = fields[0]\n",
    "    heroes[hero] += 1\n",
    "\n",
    "    \n",
    "for hero, count in sorted(heroes.items()):\n",
    "    print(hero.ljust(20, '.'), count)"
   ]
  },
  {
   "cell_type": "code",
   "execution_count": null,
   "metadata": {
    "collapsed": true
   },
   "outputs": [],
   "source": []
  },
  {
   "cell_type": "code",
   "execution_count": null,
   "metadata": {
    "collapsed": true
   },
   "outputs": [],
   "source": []
  }
 ],
 "metadata": {
  "anaconda-cloud": {},
  "celltoolbar": "Slideshow",
  "kernelspec": {
   "display_name": "Python 3",
   "language": "python",
   "name": "python3"
  },
  "language_info": {
   "codemirror_mode": {
    "name": "ipython",
    "version": 3
   },
   "file_extension": ".py",
   "mimetype": "text/x-python",
   "name": "python",
   "nbconvert_exporter": "python",
   "pygments_lexer": "ipython3",
   "version": "3.6.4"
  }
 },
 "nbformat": 4,
 "nbformat_minor": 1
}
