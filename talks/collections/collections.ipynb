{
 "cells": [
  {
   "cell_type": "markdown",
   "metadata": {},
   "source": [
    "# Welcome to the Dark Art of Coding:\n",
    "## Introduction to Python\n",
    "Collections module\n",
    "\n",
    "<img src='../../images/dark_art_logo.600px.png' width='300' style=\"float:right\">"
   ]
  },
  {
   "cell_type": "markdown",
   "metadata": {},
   "source": [
    "# Objectives\n",
    "---"
   ]
  },
  {
   "cell_type": "markdown",
   "metadata": {},
   "source": [
    "In this session, we will explore several of the key features of the `collections` module:\n",
    "* Counters\n",
    "* ChainMaps\n",
    "* Deques\n",
    "* Defaultdicts\n",
    "    "
   ]
  },
  {
   "cell_type": "markdown",
   "metadata": {},
   "source": [
    "# Counters\n",
    "---"
   ]
  },
  {
   "cell_type": "code",
   "execution_count": 2,
   "metadata": {},
   "outputs": [],
   "source": [
    "from collections import Counter"
   ]
  },
  {
   "cell_type": "code",
   "execution_count": 3,
   "metadata": {},
   "outputs": [],
   "source": [
    "# There are several ways of counting:\n",
    "#     * counting of elements in a sequence (strings, lists, etc)\n",
    "#     * jumpstarting the counting process via a dictionary OR keywords\n",
    "\n",
    "letters = Counter('aaaaabbbbcccddea')"
   ]
  },
  {
   "cell_type": "code",
   "execution_count": 4,
   "metadata": {},
   "outputs": [
    {
     "data": {
      "text/plain": [
       "Counter({'a': 6, 'b': 4, 'c': 3, 'd': 2, 'e': 1})"
      ]
     },
     "execution_count": 4,
     "metadata": {},
     "output_type": "execute_result"
    }
   ],
   "source": [
    "letters"
   ]
  },
  {
   "cell_type": "code",
   "execution_count": 25,
   "metadata": {},
   "outputs": [],
   "source": [
    "# Any sequence will do...\n",
    "#     Let's look at a list\n",
    "#     Note, the formatting/multiple lines are simply to\n",
    "#     highlight the relative counts.\n",
    "\n",
    "\n",
    "numbers = Counter( [111, 111, 111, 111, 111, \n",
    "                   222, 222, 222, 222,\n",
    "                   333, 333, 333,\n",
    "                   444, 444,\n",
    "                   42]      )"
   ]
  },
  {
   "cell_type": "code",
   "execution_count": 6,
   "metadata": {},
   "outputs": [
    {
     "data": {
      "text/plain": [
       "Counter({42: 1, 111: 5, 222: 4, 333: 3, 444: 2})"
      ]
     },
     "execution_count": 6,
     "metadata": {},
     "output_type": "execute_result"
    }
   ],
   "source": [
    "numbers"
   ]
  },
  {
   "cell_type": "code",
   "execution_count": 7,
   "metadata": {},
   "outputs": [],
   "source": [
    "# It is possible to jump start the counts by \n",
    "#     providing initial counts for any given value\n",
    "\n",
    "jumpstart = Counter({'a': 10,\n",
    "                     'b': 20,\n",
    "                     'c': 30,\n",
    "                     'd': 12})"
   ]
  },
  {
   "cell_type": "code",
   "execution_count": 8,
   "metadata": {},
   "outputs": [
    {
     "data": {
      "text/plain": [
       "Counter({'a': 10, 'b': 20, 'c': 30, 'd': 12})"
      ]
     },
     "execution_count": 8,
     "metadata": {},
     "output_type": "execute_result"
    }
   ],
   "source": [
    "jumpstart"
   ]
  },
  {
   "cell_type": "code",
   "execution_count": 9,
   "metadata": {},
   "outputs": [],
   "source": [
    "# You can also use keyword arguments to jumpstart a counter:\n",
    "\n",
    "vehicles = Counter(cars=10,\n",
    "                   trucks=20,\n",
    "                   vans=11,\n",
    "                   pickups=13) \n",
    "\n",
    "# values are assigned to keywords, THUS we don't use strings"
   ]
  },
  {
   "cell_type": "code",
   "execution_count": 10,
   "metadata": {},
   "outputs": [
    {
     "data": {
      "text/plain": [
       "Counter({'cars': 10, 'pickups': 13, 'trucks': 20, 'vans': 11})"
      ]
     },
     "execution_count": 10,
     "metadata": {},
     "output_type": "execute_result"
    }
   ],
   "source": [
    "vehicles"
   ]
  },
  {
   "cell_type": "code",
   "execution_count": 11,
   "metadata": {},
   "outputs": [],
   "source": [
    "# NOTE: .update() behaves a very differently than you might expect \n",
    "\n",
    "vehicles.update(cars=1000)  "
   ]
  },
  {
   "cell_type": "code",
   "execution_count": 12,
   "metadata": {},
   "outputs": [
    {
     "data": {
      "text/plain": [
       "Counter({'cars': 1010, 'pickups': 13, 'trucks': 20, 'vans': 11})"
      ]
     },
     "execution_count": 12,
     "metadata": {},
     "output_type": "execute_result"
    }
   ],
   "source": [
    "vehicles"
   ]
  },
  {
   "cell_type": "code",
   "execution_count": 13,
   "metadata": {},
   "outputs": [
    {
     "data": {
      "text/plain": [
       "0"
      ]
     },
     "execution_count": 13,
     "metadata": {},
     "output_type": "execute_result"
    }
   ],
   "source": [
    "vehicles['not_present']"
   ]
  },
  {
   "cell_type": "code",
   "execution_count": 14,
   "metadata": {},
   "outputs": [
    {
     "data": {
      "text/plain": [
       "Counter({'cars': 1010, 'pickups': 13, 'trucks': 20, 'vans': 11})"
      ]
     },
     "execution_count": 14,
     "metadata": {},
     "output_type": "execute_result"
    }
   ],
   "source": [
    "vehicles"
   ]
  },
  {
   "cell_type": "code",
   "execution_count": 26,
   "metadata": {},
   "outputs": [
    {
     "data": {
      "text/plain": [
       "[(111, 5), (222, 4), (333, 3), (444, 2), (42, 1)]"
      ]
     },
     "execution_count": 26,
     "metadata": {},
     "output_type": "execute_result"
    }
   ],
   "source": [
    "# Going back to our numbers Counter:\n",
    "#     Let's see the top three most common items...\n",
    "\n",
    "numbers.most_common()"
   ]
  },
  {
   "cell_type": "code",
   "execution_count": 27,
   "metadata": {},
   "outputs": [
    {
     "data": {
      "text/plain": [
       "<itertools.chain at 0x10d883320>"
      ]
     },
     "execution_count": 27,
     "metadata": {},
     "output_type": "execute_result"
    }
   ],
   "source": [
    "letters2 = Counter('bacdefbcdef42')\n",
    "letters2.elements()"
   ]
  },
  {
   "cell_type": "code",
   "execution_count": 28,
   "metadata": {},
   "outputs": [
    {
     "data": {
      "text/plain": [
       "['b', 'b', 'a', 'c', 'c', 'd', 'd', 'e', 'e', 'f', 'f', '4', '2']"
      ]
     },
     "execution_count": 28,
     "metadata": {},
     "output_type": "execute_result"
    }
   ],
   "source": [
    "list(letters2.elements())"
   ]
  },
  {
   "cell_type": "code",
   "execution_count": 29,
   "metadata": {},
   "outputs": [
    {
     "data": {
      "text/plain": [
       "['2', '4', 'a', 'b', 'b', 'c', 'c', 'd', 'd', 'e', 'e', 'f', 'f']"
      ]
     },
     "execution_count": 29,
     "metadata": {},
     "output_type": "execute_result"
    }
   ],
   "source": [
    "sorted(letters2.elements())"
   ]
  },
  {
   "cell_type": "code",
   "execution_count": 30,
   "metadata": {},
   "outputs": [],
   "source": [
    "fewer_numbers = Counter([111, 111, 111, 42])"
   ]
  },
  {
   "cell_type": "code",
   "execution_count": 31,
   "metadata": {},
   "outputs": [
    {
     "data": {
      "text/plain": [
       "Counter({42: 0, 111: 2, 222: 4, 333: 3, 444: 2})"
      ]
     },
     "execution_count": 31,
     "metadata": {},
     "output_type": "execute_result"
    }
   ],
   "source": [
    "numbers.subtract(fewer_numbers)\n",
    "numbers"
   ]
  },
  {
   "cell_type": "code",
   "execution_count": 32,
   "metadata": {},
   "outputs": [
    {
     "data": {
      "text/plain": [
       "[111, 111, 222, 222, 222, 222, 333, 333, 333, 444, 444]"
      ]
     },
     "execution_count": 32,
     "metadata": {},
     "output_type": "execute_result"
    }
   ],
   "source": [
    "list(numbers.elements())"
   ]
  },
  {
   "cell_type": "markdown",
   "metadata": {},
   "source": [
    "# ChainMaps\n",
    "---"
   ]
  },
  {
   "cell_type": "code",
   "execution_count": 34,
   "metadata": {},
   "outputs": [],
   "source": [
    "# A means to lump mappings (dicts OR dict-like objects) together into a single object\n",
    "#     * provides ease of access\n",
    "#     * provides hierarchical access to the mappings\n",
    "\n",
    "from collections import ChainMap"
   ]
  },
  {
   "cell_type": "code",
   "execution_count": 40,
   "metadata": {},
   "outputs": [],
   "source": [
    "_local = {'alpha': 'local_alpha',\n",
    "          'beta': 'local_beta',\n",
    "          'gamma': 'local_gamma'}\n",
    "\n",
    "_global = {'alpha': 'global_alpha',\n",
    "           'delta': 'global_delta'}\n",
    "\n",
    "default = {'delta': 'default_delta',\n",
    "           'epsilon': 'default_epsilon'}"
   ]
  },
  {
   "cell_type": "code",
   "execution_count": 41,
   "metadata": {},
   "outputs": [],
   "source": [
    "mychain = ChainMap(_local, _global, default)"
   ]
  },
  {
   "cell_type": "code",
   "execution_count": 42,
   "metadata": {},
   "outputs": [
    {
     "data": {
      "text/plain": [
       "ChainMap({'alpha': 'local_alpha', 'beta': 'local_beta', 'gamma': 'local_gamma'}, {'alpha': 'global_alpha', 'delta': 'global_delta'}, {'delta': 'default_delta', 'epsilon': 'default_epsilon'})"
      ]
     },
     "execution_count": 42,
     "metadata": {},
     "output_type": "execute_result"
    }
   ],
   "source": [
    "mychain"
   ]
  },
  {
   "cell_type": "code",
   "execution_count": 43,
   "metadata": {},
   "outputs": [
    {
     "data": {
      "text/plain": [
       "'local_alpha'"
      ]
     },
     "execution_count": 43,
     "metadata": {},
     "output_type": "execute_result"
    }
   ],
   "source": [
    "# Should come from '_local'\n",
    "\n",
    "mychain['alpha']"
   ]
  },
  {
   "cell_type": "code",
   "execution_count": 44,
   "metadata": {},
   "outputs": [
    {
     "data": {
      "text/plain": [
       "'local_beta'"
      ]
     },
     "execution_count": 44,
     "metadata": {},
     "output_type": "execute_result"
    }
   ],
   "source": [
    "# Should come from '_local'\n",
    "\n",
    "mychain['beta']"
   ]
  },
  {
   "cell_type": "code",
   "execution_count": 45,
   "metadata": {},
   "outputs": [
    {
     "data": {
      "text/plain": [
       "'global_delta'"
      ]
     },
     "execution_count": 45,
     "metadata": {},
     "output_type": "execute_result"
    }
   ],
   "source": [
    "# Should come from '_global'\n",
    "\n",
    "mychain['delta']"
   ]
  },
  {
   "cell_type": "code",
   "execution_count": 46,
   "metadata": {},
   "outputs": [
    {
     "data": {
      "text/plain": [
       "'default_epsilon'"
      ]
     },
     "execution_count": 46,
     "metadata": {},
     "output_type": "execute_result"
    }
   ],
   "source": [
    "# Should come from 'default'\n",
    "\n",
    "mychain['epsilon']"
   ]
  },
  {
   "cell_type": "code",
   "execution_count": 51,
   "metadata": {},
   "outputs": [
    {
     "data": {
      "text/plain": [
       "[{'alpha': 'local_alpha', 'beta': 'local_beta', 'gamma': 'local_gamma'},\n",
       " {'alpha': 'global_alpha', 'delta': 'global_delta'},\n",
       " {'delta': 'default_delta', 'epsilon': 'default_epsilon'}]"
      ]
     },
     "execution_count": 51,
     "metadata": {},
     "output_type": "execute_result"
    }
   ],
   "source": [
    "# A list of all encapsulated dicts is accessible via .maps\n",
    "\n",
    "mychain.maps"
   ]
  },
  {
   "cell_type": "code",
   "execution_count": 54,
   "metadata": {},
   "outputs": [
    {
     "data": {
      "text/plain": [
       "{'alpha': 'local_alpha', 'beta': 'local_beta', 'gamma': 'local_gamma'}"
      ]
     },
     "execution_count": 54,
     "metadata": {},
     "output_type": "execute_result"
    }
   ],
   "source": [
    "# Since this is just a list...\n",
    "#     it is indexable, like any other list\n",
    "\n",
    "mychain.maps[0]"
   ]
  },
  {
   "cell_type": "code",
   "execution_count": 55,
   "metadata": {},
   "outputs": [
    {
     "data": {
      "text/plain": [
       "{'delta': 'default_delta', 'epsilon': 'default_epsilon'}"
      ]
     },
     "execution_count": 55,
     "metadata": {},
     "output_type": "execute_result"
    }
   ],
   "source": [
    "# Since this is just a list...\n",
    "#     it is indexable, like any other list\n",
    "\n",
    "mychain.maps[-1]"
   ]
  },
  {
   "cell_type": "code",
   "execution_count": 58,
   "metadata": {},
   "outputs": [
    {
     "name": "stdout",
     "output_type": "stream",
     "text": [
      "gamma\n",
      "delta\n",
      "alpha\n",
      "epsilon\n",
      "beta\n"
     ]
    }
   ],
   "source": [
    "# Parsing through the keys via 'for' loop enumerates a \n",
    "#     deduplicated series of keys from all the dicts\n",
    "\n",
    "for key in mychain:\n",
    "    print(key)"
   ]
  },
  {
   "cell_type": "code",
   "execution_count": 59,
   "metadata": {},
   "outputs": [
    {
     "name": "stdout",
     "output_type": "stream",
     "text": [
      "local_gamma\n",
      "global_delta\n",
      "local_alpha\n",
      "default_epsilon\n",
      "local_beta\n"
     ]
    }
   ],
   "source": [
    "for value in mychain.values():\n",
    "    print(value)"
   ]
  },
  {
   "cell_type": "code",
   "execution_count": 60,
   "metadata": {},
   "outputs": [
    {
     "name": "stdout",
     "output_type": "stream",
     "text": [
      "('gamma', 'local_gamma')\n",
      "('delta', 'global_delta')\n",
      "('alpha', 'local_alpha')\n",
      "('epsilon', 'default_epsilon')\n",
      "('beta', 'local_beta')\n"
     ]
    }
   ],
   "source": [
    "for items in mychain.items():\n",
    "    print(items)"
   ]
  },
  {
   "cell_type": "code",
   "execution_count": null,
   "metadata": {},
   "outputs": [],
   "source": []
  },
  {
   "cell_type": "code",
   "execution_count": 61,
   "metadata": {},
   "outputs": [],
   "source": [
    "# ChainMaps can be built on the fly\n",
    "# Let's create a ChainMap with a single entity"
   ]
  },
  {
   "cell_type": "code",
   "execution_count": 63,
   "metadata": {},
   "outputs": [],
   "source": [
    "# This comment creates a root context\n",
    "\n",
    "c = ChainMap({'cee': 'example_c'})"
   ]
  },
  {
   "cell_type": "code",
   "execution_count": 64,
   "metadata": {},
   "outputs": [],
   "source": [
    "# The following command creates a nested child context\n",
    "\n",
    "d = c.new_child({'dee': 'example_d'})     "
   ]
  },
  {
   "cell_type": "code",
   "execution_count": 65,
   "metadata": {},
   "outputs": [
    {
     "data": {
      "text/plain": [
       "ChainMap({'dee': 'example_d'}, {'cee': 'example_c'})"
      ]
     },
     "execution_count": 65,
     "metadata": {},
     "output_type": "execute_result"
    }
   ],
   "source": [
    "d"
   ]
  },
  {
   "cell_type": "code",
   "execution_count": 67,
   "metadata": {},
   "outputs": [],
   "source": [
    "# NOTE: we can reuse the root context c as the root for\n",
    "#     multiple ChainMaps\n",
    "# Each ChainMap, d AND e, are children of c, but are \n",
    "#     independent of each other.\n",
    "\n",
    "e = c.new_child({'ee': 'example_e'})     # Child of c, independent from d"
   ]
  },
  {
   "cell_type": "code",
   "execution_count": 68,
   "metadata": {},
   "outputs": [
    {
     "data": {
      "text/plain": [
       "ChainMap({'ee': 'example_e'}, {'cee': 'example_c'})"
      ]
     },
     "execution_count": 68,
     "metadata": {},
     "output_type": "execute_result"
    }
   ],
   "source": [
    "e"
   ]
  },
  {
   "cell_type": "code",
   "execution_count": 69,
   "metadata": {},
   "outputs": [
    {
     "data": {
      "text/plain": [
       "{'ee': 'example_e'}"
      ]
     },
     "execution_count": 69,
     "metadata": {},
     "output_type": "execute_result"
    }
   ],
   "source": [
    "e.maps[0]"
   ]
  },
  {
   "cell_type": "code",
   "execution_count": 70,
   "metadata": {},
   "outputs": [
    {
     "data": {
      "text/plain": [
       "{'cee': 'example_c'}"
      ]
     },
     "execution_count": 70,
     "metadata": {},
     "output_type": "execute_result"
    }
   ],
   "source": [
    "e.maps[-1]"
   ]
  },
  {
   "cell_type": "code",
   "execution_count": 71,
   "metadata": {},
   "outputs": [
    {
     "data": {
      "text/plain": [
       "ChainMap({'cee': 'example_c'})"
      ]
     },
     "execution_count": 71,
     "metadata": {},
     "output_type": "execute_result"
    }
   ],
   "source": [
    "e.parents"
   ]
  },
  {
   "cell_type": "code",
   "execution_count": 72,
   "metadata": {},
   "outputs": [],
   "source": [
    "# Let's add a new layer, this time under 'e' \n",
    "#     (instead of 'c', as we did above)\n",
    "\n",
    "f = e.new_child({'ff': 'example_f'})"
   ]
  },
  {
   "cell_type": "code",
   "execution_count": 73,
   "metadata": {},
   "outputs": [
    {
     "data": {
      "text/plain": [
       "ChainMap({'ff': 'example_f'}, {'ee': 'example_e'}, {'cee': 'example_c'})"
      ]
     },
     "execution_count": 73,
     "metadata": {},
     "output_type": "execute_result"
    }
   ],
   "source": [
    "f"
   ]
  },
  {
   "cell_type": "code",
   "execution_count": 74,
   "metadata": {},
   "outputs": [],
   "source": [
    "# WARNING: ChainMaps are not standalone objects OR copies.\n",
    "#     They are views into other existing objects\n",
    "#     Any change will affect any upstream objects.\n",
    "\n",
    "f.maps[2]['cee'] = 'oops'"
   ]
  },
  {
   "cell_type": "code",
   "execution_count": 75,
   "metadata": {},
   "outputs": [
    {
     "name": "stdout",
     "output_type": "stream",
     "text": [
      "ChainMap({'ff': 'example_f'}, {'ee': 'example_e'}, {'cee': 'oops'})\n",
      "ChainMap({'ee': 'example_e'}, {'cee': 'oops'})\n",
      "ChainMap({'dee': 'example_d'}, {'cee': 'oops'})\n",
      "ChainMap({'cee': 'oops'})\n"
     ]
    }
   ],
   "source": [
    "print(f)\n",
    "print(e)\n",
    "print(d)\n",
    "print(c)"
   ]
  },
  {
   "cell_type": "markdown",
   "metadata": {},
   "source": [
    "# Deques\n",
    "---"
   ]
  },
  {
   "cell_type": "code",
   "execution_count": 80,
   "metadata": {},
   "outputs": [],
   "source": [
    "from collections import deque"
   ]
  },
  {
   "cell_type": "code",
   "execution_count": 108,
   "metadata": {},
   "outputs": [],
   "source": [
    "greeklist = ['alpha', 'beta', 'gamma']\n",
    "greekdeque = deque(['alpha', 'beta', 'gamma'])"
   ]
  },
  {
   "cell_type": "code",
   "execution_count": 109,
   "metadata": {},
   "outputs": [
    {
     "data": {
      "text/plain": [
       "list"
      ]
     },
     "execution_count": 109,
     "metadata": {},
     "output_type": "execute_result"
    }
   ],
   "source": [
    "# Let's see what types of items we made\n",
    "\n",
    "type(greeklist)"
   ]
  },
  {
   "cell_type": "code",
   "execution_count": 110,
   "metadata": {},
   "outputs": [
    {
     "data": {
      "text/plain": [
       "collections.deque"
      ]
     },
     "execution_count": 110,
     "metadata": {},
     "output_type": "execute_result"
    }
   ],
   "source": [
    "type(greekdeque)"
   ]
  },
  {
   "cell_type": "code",
   "execution_count": null,
   "metadata": {},
   "outputs": [],
   "source": [
    "# And let's see what we can do with them...\n",
    "\n",
    "greeklist."
   ]
  },
  {
   "cell_type": "code",
   "execution_count": null,
   "metadata": {},
   "outputs": [],
   "source": [
    "greekdeque."
   ]
  },
  {
   "cell_type": "code",
   "execution_count": 112,
   "metadata": {},
   "outputs": [],
   "source": [
    "greekdeque.append('delta') # 'delta', 'epsilon'"
   ]
  },
  {
   "cell_type": "code",
   "execution_count": 113,
   "metadata": {},
   "outputs": [
    {
     "data": {
      "text/plain": [
       "deque(['alpha', 'beta', 'gamma', 'delta'])"
      ]
     },
     "execution_count": 113,
     "metadata": {},
     "output_type": "execute_result"
    }
   ],
   "source": [
    "greekdeque"
   ]
  },
  {
   "cell_type": "code",
   "execution_count": 114,
   "metadata": {},
   "outputs": [],
   "source": [
    "greekdeque.appendleft('omega')"
   ]
  },
  {
   "cell_type": "code",
   "execution_count": 115,
   "metadata": {},
   "outputs": [
    {
     "data": {
      "text/plain": [
       "deque(['omega', 'alpha', 'beta', 'gamma', 'delta'])"
      ]
     },
     "execution_count": 115,
     "metadata": {},
     "output_type": "execute_result"
    }
   ],
   "source": [
    "greekdeque"
   ]
  },
  {
   "cell_type": "code",
   "execution_count": 116,
   "metadata": {},
   "outputs": [],
   "source": [
    "greekdeque.extend(['epsilon', 'zeta'])"
   ]
  },
  {
   "cell_type": "code",
   "execution_count": 117,
   "metadata": {},
   "outputs": [
    {
     "data": {
      "text/plain": [
       "deque(['omega', 'alpha', 'beta', 'gamma', 'delta', 'epsilon', 'zeta'])"
      ]
     },
     "execution_count": 117,
     "metadata": {},
     "output_type": "execute_result"
    }
   ],
   "source": [
    "greekdeque"
   ]
  },
  {
   "cell_type": "code",
   "execution_count": 131,
   "metadata": {},
   "outputs": [
    {
     "data": {
      "text/plain": [
       "deque(['zeta', 'omega', 'alpha', 'beta', 'gamma', 'delta', 'epsilon'])"
      ]
     },
     "execution_count": 131,
     "metadata": {},
     "output_type": "execute_result"
    }
   ],
   "source": [
    "# Let's rotate through a series of items\n",
    "\n",
    "greekdeque.rotate()\n",
    "greekdeque"
   ]
  },
  {
   "cell_type": "code",
   "execution_count": 132,
   "metadata": {},
   "outputs": [
    {
     "data": {
      "text/plain": [
       "deque(['alpha', 'beta', 'gamma', 'delta', 'epsilon', 'zeta', 'omega'])"
      ]
     },
     "execution_count": 132,
     "metadata": {},
     "output_type": "execute_result"
    }
   ],
   "source": [
    "# Let's rotate backwards through a series of items\n",
    "\n",
    "greekdeque.rotate(-2)\n",
    "greekdeque"
   ]
  },
  {
   "cell_type": "code",
   "execution_count": 133,
   "metadata": {},
   "outputs": [],
   "source": [
    "# Great feature of deques is that you can limit their length\n",
    "#     and thus create a first in, first out queue that will\n",
    "#     keep just the last few items entered.\n",
    "# For example, the file 'data.txt has 20 lines...\n",
    "#     we can read them all in and keep on the last five...\n",
    "#     without having to know how many lines are in the file first.\n",
    "\n",
    "with open('data.txt') as fin:\n",
    "    \n",
    "    # Set the maxlen value    \n",
    "    words = deque(fin, maxlen=5)\n",
    "    \n",
    "    words = [word.strip() for word in words]"
   ]
  },
  {
   "cell_type": "code",
   "execution_count": 134,
   "metadata": {},
   "outputs": [
    {
     "name": "stdout",
     "output_type": "stream",
     "text": [
      "['maniacal', 'omniscient', 'ghost', 'psychedelic', 'wicked']\n"
     ]
    }
   ],
   "source": [
    "print(words)"
   ]
  },
  {
   "cell_type": "markdown",
   "metadata": {},
   "source": [
    "# Defaultdicts\n",
    "---"
   ]
  },
  {
   "cell_type": "code",
   "execution_count": 77,
   "metadata": {},
   "outputs": [],
   "source": [
    "from collections import defaultdict"
   ]
  },
  {
   "cell_type": "code",
   "execution_count": 138,
   "metadata": {},
   "outputs": [],
   "source": [
    "# defaultdicts can be used to count things AND to collect data\n",
    "#     into collections"
   ]
  },
  {
   "cell_type": "code",
   "execution_count": 140,
   "metadata": {},
   "outputs": [],
   "source": [
    "# As an example, let's simply parse a series but not do any counting...\n",
    "#     just to see the default behavior\n",
    "# Every call using a new key will create an entry in the\n",
    "#     defaultdict, but will set the default value to that of\n",
    "#     a default integer (with a value of zero)\n",
    "\n",
    "sample = defaultdict(int)\n",
    "\n",
    "for item in 'abracadabra':\n",
    "    sample[item]"
   ]
  },
  {
   "cell_type": "code",
   "execution_count": 141,
   "metadata": {},
   "outputs": [
    {
     "data": {
      "text/plain": [
       "defaultdict(int, {'a': 0, 'b': 0, 'c': 0, 'd': 0, 'r': 0})"
      ]
     },
     "execution_count": 141,
     "metadata": {},
     "output_type": "execute_result"
    }
   ],
   "source": [
    "sample"
   ]
  },
  {
   "cell_type": "code",
   "execution_count": 146,
   "metadata": {},
   "outputs": [
    {
     "data": {
      "text/plain": [
       "defaultdict(int, {'a': 5, 'b': 2, 'c': 1, 'd': 1, 'r': 2})"
      ]
     },
     "execution_count": 146,
     "metadata": {},
     "output_type": "execute_result"
    }
   ],
   "source": [
    "# Now, we can repeat the process, but using a mathematical assignment operator\n",
    "\n",
    "incrementer = defaultdict(int)\n",
    "\n",
    "for item in 'abracadabra':\n",
    "    incrementer[item] += 1\n",
    "    \n",
    "incrementer"
   ]
  },
  {
   "cell_type": "code",
   "execution_count": 153,
   "metadata": {},
   "outputs": [
    {
     "data": {
      "text/plain": [
       "defaultdict(list,\n",
       "            {'I': ['i', 'i', 'i', 'i'],\n",
       "             'M': ['m'],\n",
       "             'P': ['p', 'p'],\n",
       "             'S': ['s', 's', 's', 's']})"
      ]
     },
     "execution_count": 153,
     "metadata": {},
     "output_type": "execute_result"
    }
   ],
   "source": [
    "# We can also collect data into sets/lists, etc.\n",
    "\n",
    "collector = defaultdict(list)\n",
    "\n",
    "for item in 'mississippi':\n",
    "    collector[item.upper()].append(item)\n",
    "    \n",
    "collector"
   ]
  },
  {
   "cell_type": "code",
   "execution_count": null,
   "metadata": {},
   "outputs": [],
   "source": []
  },
  {
   "cell_type": "code",
   "execution_count": null,
   "metadata": {},
   "outputs": [],
   "source": []
  },
  {
   "cell_type": "code",
   "execution_count": null,
   "metadata": {},
   "outputs": [],
   "source": []
  },
  {
   "cell_type": "code",
   "execution_count": null,
   "metadata": {},
   "outputs": [],
   "source": []
  },
  {
   "cell_type": "code",
   "execution_count": null,
   "metadata": {},
   "outputs": [],
   "source": []
  },
  {
   "cell_type": "code",
   "execution_count": null,
   "metadata": {},
   "outputs": [],
   "source": []
  },
  {
   "cell_type": "code",
   "execution_count": null,
   "metadata": {},
   "outputs": [],
   "source": []
  },
  {
   "cell_type": "code",
   "execution_count": null,
   "metadata": {},
   "outputs": [],
   "source": []
  }
 ],
 "metadata": {
  "kernelspec": {
   "display_name": "Python 3",
   "language": "python",
   "name": "python3"
  },
  "language_info": {
   "codemirror_mode": {
    "name": "ipython",
    "version": 3
   },
   "file_extension": ".py",
   "mimetype": "text/x-python",
   "name": "python",
   "nbconvert_exporter": "python",
   "pygments_lexer": "ipython3",
   "version": "3.6.4"
  }
 },
 "nbformat": 4,
 "nbformat_minor": 2
}
