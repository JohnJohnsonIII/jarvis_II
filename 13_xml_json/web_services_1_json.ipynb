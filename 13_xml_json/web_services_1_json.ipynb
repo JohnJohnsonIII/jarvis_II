{
 "cells": [
  {
   "cell_type": "markdown",
   "metadata": {},
   "source": [
    "# Welcome to the Dark Art of Coding:\n",
    "## Introduction to Python\n",
    "Web services: JSON\n",
    "\n",
    "<img src='../images/dark_art_logo.600px.png' width='300' style=\"float:right\">"
   ]
  },
  {
   "cell_type": "markdown",
   "metadata": {},
   "source": [
    "# Objectives\n",
    "---"
   ]
  },
  {
   "cell_type": "markdown",
   "metadata": {},
   "source": [
    "In this session, students should expect to:\n",
    "\n",
    "* Understand the basics of the JSON format\n",
    "* Read in JSON strings\n",
    "* Write out JSON strings\n"
   ]
  },
  {
   "cell_type": "markdown",
   "metadata": {},
   "source": [
    "# The JSON format\n",
    "---"
   ]
  },
  {
   "cell_type": "markdown",
   "metadata": {},
   "source": [
    "Fundamentally, JSON is only composed of a handful of elements. Most of these elements closely mirror the elements seen in Python.\n",
    "\n",
    "The images below are taken from the following website:\n",
    "[http://www.json.org/](http://www.json.org/)"
   ]
  },
  {
   "cell_type": "markdown",
   "metadata": {},
   "source": [
    "**object**\n",
    "\n",
    "A JSON object looks very much like a Python dictionary.\n",
    "\n",
    "* encapsulated with a pair of curly braces `{}`\n",
    "* keys/values separated by a colon `:`\n",
    "* multiple key and value pairs separated from each other by commas `,`\n",
    "\n",
    "<img src='object_json.png' width='450'>"
   ]
  },
  {
   "cell_type": "markdown",
   "metadata": {},
   "source": [
    "**array**\n",
    "\n",
    "A JSON array looks like a Python list.\n",
    "\n",
    "* encapsulated with a pair of square brackets\n",
    "* values separated from each other by commas `,`\n",
    "\n",
    "<img src='array_json.png' width='450'>"
   ]
  },
  {
   "cell_type": "markdown",
   "metadata": {},
   "source": [
    "**value**\n",
    "\n",
    "A JSON value may be any of the following items:\n",
    "\n",
    "<img src='value_json.png' width='450'>"
   ]
  },
  {
   "cell_type": "markdown",
   "metadata": {},
   "source": [
    "**string**\n",
    "\n",
    "A JSON string is formed in much the same way as a Python string, with many of the same rules/guidelines. In addition, there are some allowances made for specific computing commands (newline, return, etc)."
   ]
  },
  {
   "cell_type": "markdown",
   "metadata": {},
   "source": [
    "<img src='string_json.png' width='450'>"
   ]
  },
  {
   "cell_type": "markdown",
   "metadata": {},
   "source": [
    "**number**\n",
    "\n",
    "A JSON number is very similar to a variety of the Python style numbers (int, float, etc) and may include:\n",
    "\n",
    "* positive/negative numbers\n",
    "* scientific notation with positive and negative exponentiation\n",
    "* decimal notation"
   ]
  },
  {
   "cell_type": "markdown",
   "metadata": {},
   "source": [
    "<img src='number_json.png' width='450'>"
   ]
  },
  {
   "cell_type": "markdown",
   "metadata": {},
   "source": [
    "# JSON samples\n",
    "---"
   ]
  },
  {
   "cell_type": "markdown",
   "metadata": {},
   "source": [
    "## sample zero\n",
    "\n",
    "```json\n",
    "{\"movie\": \"wonder woman\"}\n",
    "```"
   ]
  },
  {
   "cell_type": "markdown",
   "metadata": {},
   "source": [
    "## sample one\n",
    "\n",
    "```json\n",
    "{\"movies\": [\"wonder woman\", \"batman begins\", \"suicide squad\"]}\n",
    "```"
   ]
  },
  {
   "cell_type": "markdown",
   "metadata": {},
   "source": [
    "## sample two\n",
    "\n",
    "```json\n",
    "{    \"movie\": \n",
    "             {\"title\": \"wonder woman\",      # This dictionary is nested as the \n",
    "              \"lead actress\": \"gal gadot\"   # value for the movie key.\n",
    "             }\n",
    "}\n",
    "```"
   ]
  },
  {
   "cell_type": "markdown",
   "metadata": {},
   "source": [
    "## sample three\n",
    "\n",
    "```json\n",
    "{    \"movie\": \n",
    "     {\"title\": \"wonder woman\",           \n",
    "      \"lead actress\": \"gal gadot\",       \n",
    "      \"director\": \"Patty Jenkins\",\n",
    "      \"other actors\": ['chris pine', 'robin wright', 'david thewlis']\n",
    "     }\n",
    "}\n",
    "```"
   ]
  },
  {
   "cell_type": "markdown",
   "metadata": {},
   "source": [
    "\n",
    "## sample four\n",
    "\n",
    "```json\n",
    "{\n",
    "        \"name\":\"merchandise\",\n",
    "        \"properties\":\n",
    "        {\n",
    "                \"id\":\n",
    "                {\n",
    "                        \"type\":\"numeric\",\n",
    "                        \"description\":\"merchandise identifier\",\n",
    "                        \"required\":true\n",
    "                        \"format\":\"nn-nnn-nnnnnn\"\n",
    "                },\n",
    "                \"name\":\n",
    "                {\n",
    "                        \"description\":\"Name of the merchandise\",\n",
    "                        \"type\":\"string\",\n",
    "                        \"required\":true\n",
    "                },\n",
    "                \"price\":\n",
    "                {\n",
    "                        \"type\":\"numeric\",\n",
    "                        \"minimum\": [0, 0.0, 0.00],\n",
    "                        \"required\":true\n",
    "                }\n",
    "        }\n",
    "}\n",
    "```\n"
   ]
  },
  {
   "cell_type": "markdown",
   "metadata": {},
   "source": [
    "## sample five\n",
    "\n",
    "```json\n",
    "{\n",
    "    \"colorsArray\": [{\n",
    "            \"hexValue\":\"#ff0000\",\n",
    "            \"colorName\":\"red\"\n",
    "        },\n",
    "        {\n",
    "            \"hexValue\":\"#000000\",\n",
    "            \"colorName\":\"black\"          \n",
    "        }\n",
    "    ]\n",
    "}\n",
    "```"
   ]
  },
  {
   "cell_type": "markdown",
   "metadata": {},
   "source": [
    "## sample six\n",
    "\n",
    "```json\n",
    "{\n",
    "     \"lastName\": \"John\",\n",
    "     \"firstName\": \"Smith\",\n",
    "     \"dob\": 1969,\n",
    "     \"address\":\n",
    "     {\n",
    "         \"streetAddress\": \"364 S King St\",\n",
    "         \"city\": \"Honolulu\",\n",
    "         \"state\": \"HI\",\n",
    "         \"postalCode\": \"96813\"\n",
    "     },\n",
    "     \"phoneNumber\":\n",
    "     [\n",
    "         {\n",
    "           \"type\": \"home\",\n",
    "           \"number\": \"808 123-9876\"\n",
    "         },\n",
    "         {\n",
    "           \"type\": \"cell\",\n",
    "           \"number\": \"808 987-1234\"\n",
    "         }\n",
    "     ]\n",
    " }\n",
    " ```\n"
   ]
  },
  {
   "cell_type": "markdown",
   "metadata": {},
   "source": [
    "# Reading JSON\n",
    "---"
   ]
  },
  {
   "cell_type": "code",
   "execution_count": 1,
   "metadata": {
    "collapsed": true
   },
   "outputs": [],
   "source": [
    "import json\n",
    "\n",
    "sample_four = '''{\n",
    "        \"name\":\"merchandise\",\n",
    "        \"properties\":\n",
    "        {\n",
    "                \"id\":\n",
    "                {\n",
    "                        \"type\":\"numeric\",\n",
    "                        \"description\":\"merchandise identifier\",\n",
    "                        \"required\":true,\n",
    "                        \"format\":\"nn-nnn-nnnnnn\"\n",
    "                },\n",
    "                \"name\":\n",
    "                {\n",
    "                        \"description\":\"Name of the merchandise\",\n",
    "                        \"type\":\"string\",\n",
    "                        \"required\":true\n",
    "                },\n",
    "                \"price\":\n",
    "                {\n",
    "                        \"type\":\"numeric\",\n",
    "                        \"minimum\": [0, 0.0, 0.00],\n",
    "                        \"required\":true\n",
    "                }\n",
    "        }\n",
    "}'''"
   ]
  },
  {
   "cell_type": "code",
   "execution_count": 2,
   "metadata": {
    "collapsed": true
   },
   "outputs": [],
   "source": [
    "# If you have a STRING...use *.loads() \n",
    "# This is short for 'load string'\n",
    "\n",
    "info = json.loads(sample_four)"
   ]
  },
  {
   "cell_type": "code",
   "execution_count": 3,
   "metadata": {},
   "outputs": [
    {
     "name": "stdout",
     "output_type": "stream",
     "text": [
      "{'name': 'merchandise', 'properties': {'id': {'type': 'numeric', 'description': 'merchandise identifier', 'required': True, 'format': 'nn-nnn-nnnnnn'}, 'name': {'description': 'Name of the merchandise', 'type': 'string', 'required': True}, 'price': {'type': 'numeric', 'minimum': [0, 0.0, 0.0], 'required': True}}}\n",
      "<class 'dict'>\n"
     ]
    }
   ],
   "source": [
    "# Let's print the object and the type() of object we get back and look at it.\n",
    "\n",
    "print(info, type(info), sep='\\n')\n",
    "\n",
    "# We see that we got out a Python dictionary"
   ]
  },
  {
   "cell_type": "markdown",
   "metadata": {},
   "source": [
    "## Pretty Printing json"
   ]
  },
  {
   "cell_type": "code",
   "execution_count": 4,
   "metadata": {},
   "outputs": [
    {
     "name": "stdout",
     "output_type": "stream",
     "text": [
      "{'name': 'merchandise',\n",
      " 'properties': {'id': {'description': 'merchandise identifier',\n",
      "                       'format': 'nn-nnn-nnnnnn',\n",
      "                       'required': True,\n",
      "                       'type': 'numeric'},\n",
      "                'name': {'description': 'Name of the merchandise',\n",
      "                         'required': True,\n",
      "                         'type': 'string'},\n",
      "                'price': {'minimum': [0, 0.0, 0.0],\n",
      "                          'required': True,\n",
      "                          'type': 'numeric'}}}\n"
     ]
    }
   ],
   "source": [
    "# json can be ugly and hard to read...\n",
    "# pretty printing can help some of that...\n",
    "\n",
    "from pprint import pprint\n",
    "pprint(info)"
   ]
  },
  {
   "cell_type": "markdown",
   "metadata": {},
   "source": [
    "## Bracket syntax: `object[index]` OR `object[key]`"
   ]
  },
  {
   "cell_type": "code",
   "execution_count": 5,
   "metadata": {},
   "outputs": [
    {
     "data": {
      "text/plain": [
       "'merchandise'"
      ]
     },
     "execution_count": 5,
     "metadata": {},
     "output_type": "execute_result"
    }
   ],
   "source": [
    "# because the json module produces lists and dictionaries\n",
    "# you already know how to extract data from the these data types\n",
    "\n",
    "# For example, to get the value associated with the key 'name'\n",
    "\n",
    "info['name']"
   ]
  },
  {
   "cell_type": "markdown",
   "metadata": {},
   "source": [
    "### multiple views: 'evaluation', 'print', 'pprint'"
   ]
  },
  {
   "cell_type": "code",
   "execution_count": 6,
   "metadata": {},
   "outputs": [
    {
     "data": {
      "text/plain": [
       "{'id': {'type': 'numeric',\n",
       "  'description': 'merchandise identifier',\n",
       "  'required': True,\n",
       "  'format': 'nn-nnn-nnnnnn'},\n",
       " 'name': {'description': 'Name of the merchandise',\n",
       "  'type': 'string',\n",
       "  'required': True},\n",
       " 'price': {'type': 'numeric', 'minimum': [0, 0.0, 0.0], 'required': True}}"
      ]
     },
     "execution_count": 6,
     "metadata": {},
     "output_type": "execute_result"
    }
   ],
   "source": [
    "# You can extract any value using the name of the appropriate key.\n",
    "\n",
    "# NOTE: simple evaluation on the IPython OR the Jupyter prompt is\n",
    "#     reasonably good, because they use a form of \n",
    "#     configured version of pprint in the background\n",
    "\n",
    "info['properties']"
   ]
  },
  {
   "cell_type": "code",
   "execution_count": 7,
   "metadata": {},
   "outputs": [
    {
     "name": "stdout",
     "output_type": "stream",
     "text": [
      "{'id': {'type': 'numeric', 'description': 'merchandise identifier', 'required': True, 'format': 'nn-nnn-nnnnnn'}, 'name': {'description': 'Name of the merchandise', 'type': 'string', 'required': True}, 'price': {'type': 'numeric', 'minimum': [0, 0.0, 0.0], 'required': True}}\n"
     ]
    }
   ],
   "source": [
    "# WARNING: print is horrible with deeply nested dictionaries OR lists\n",
    "\n",
    "print(info['properties'])"
   ]
  },
  {
   "cell_type": "code",
   "execution_count": 8,
   "metadata": {},
   "outputs": [
    {
     "name": "stdout",
     "output_type": "stream",
     "text": [
      "{'id': {'description': 'merchandise identifier',\n",
      "        'format': 'nn-nnn-nnnnnn',\n",
      "        'required': True,\n",
      "        'type': 'numeric'},\n",
      " 'name': {'description': 'Name of the merchandise',\n",
      "          'required': True,\n",
      "          'type': 'string'},\n",
      " 'price': {'minimum': [0, 0.0, 0.0], 'required': True, 'type': 'numeric'}}\n"
     ]
    }
   ],
   "source": [
    "# If you want to create a script that displays to the screen\n",
    "#     pprint works well in your scripts\n",
    "\n",
    "pprint(info['properties'])"
   ]
  },
  {
   "cell_type": "markdown",
   "metadata": {},
   "source": [
    "## Chained bracket syntax: \n",
    "\n",
    "```python\n",
    "object[index][index][index]\n",
    "object[key][key][key]\n",
    "object[key][index][key]\n",
    "```                     "
   ]
  },
  {
   "cell_type": "code",
   "execution_count": 9,
   "metadata": {},
   "outputs": [
    {
     "data": {
      "text/plain": [
       "{'type': 'numeric',\n",
       " 'description': 'merchandise identifier',\n",
       " 'required': True,\n",
       " 'format': 'nn-nnn-nnnnnn'}"
      ]
     },
     "execution_count": 9,
     "metadata": {},
     "output_type": "execute_result"
    }
   ],
   "source": [
    "# The value associated with the 'properties' key is \n",
    "#     simply a dictionary\n",
    "#     so we can use a one of the keys in that dictionary \n",
    "#     to extract nested data\n",
    "#     Let's look at what value is associated with the 'id' key\n",
    "\n",
    "\n",
    "info['properties']['id']"
   ]
  },
  {
   "cell_type": "code",
   "execution_count": 10,
   "metadata": {},
   "outputs": [
    {
     "data": {
      "text/plain": [
       "'nn-nnn-nnnnnn'"
      ]
     },
     "execution_count": 10,
     "metadata": {},
     "output_type": "execute_result"
    }
   ],
   "source": [
    "# The value associated with the 'id' key is \n",
    "#     simply a dictionary\n",
    "#     Let's look at what value is associated with the 'format' key\n",
    "\n",
    "info['properties']['id']['format']"
   ]
  },
  {
   "cell_type": "code",
   "execution_count": 11,
   "metadata": {},
   "outputs": [
    {
     "data": {
      "text/plain": [
       "'merchandise identifier'"
      ]
     },
     "execution_count": 11,
     "metadata": {},
     "output_type": "execute_result"
    }
   ],
   "source": [
    "# Next, let's look at the value associated with the \n",
    "#     'description' key.\n",
    "\n",
    "info['properties']['id']['description']"
   ]
  },
  {
   "cell_type": "code",
   "execution_count": 12,
   "metadata": {},
   "outputs": [
    {
     "data": {
      "text/plain": [
       "'r'"
      ]
     },
     "execution_count": 12,
     "metadata": {},
     "output_type": "execute_result"
    }
   ],
   "source": [
    "# If we need to extract a particular value from a list or a \n",
    "#     string, indexing works.\n",
    "#     Here we will extract the last letter of the value\n",
    "#     associated with the key: 'description'\n",
    "\n",
    "info['properties']['id']['description'][-1]"
   ]
  },
  {
   "cell_type": "code",
   "execution_count": 13,
   "metadata": {},
   "outputs": [
    {
     "data": {
      "text/plain": [
       "0.0"
      ]
     },
     "execution_count": 13,
     "metadata": {},
     "output_type": "execute_result"
    }
   ],
   "source": [
    "# Another example: here we chain keys and indexes successfully:\n",
    "#     The 'properties' key is associated with a dictionary that contains a 'price' key\n",
    "#     The 'price' key is associated with a dictionary the contains the 'minimum' key\n",
    "#     The 'minimum' key is associated with a list, that has an item in index '1'\n",
    "\n",
    "info['properties']['price']['minimum'][1]"
   ]
  },
  {
   "cell_type": "markdown",
   "metadata": {},
   "source": [
    "# Writing JSON\n",
    "---"
   ]
  },
  {
   "cell_type": "code",
   "execution_count": 14,
   "metadata": {
    "collapsed": true
   },
   "outputs": [],
   "source": [
    "data = {'a list': [1, 42, 3.141, 1337, 'help', u'€'],\n",
    "        'a string': 'bla',\n",
    "        'another dict': {'foo': 'bar',\n",
    "                         'key': 'value',\n",
    "                         'the answer': 42}}\n",
    "\n"
   ]
  },
  {
   "cell_type": "code",
   "execution_count": 15,
   "metadata": {
    "collapsed": true
   },
   "outputs": [],
   "source": [
    "# with ... as ... \n",
    "# Using a context manager...\n",
    "\n",
    "# This syntax may be a bit odd at first, but it is not really much different than:\n",
    "# fout = open('misc.json', 'w')\n",
    "# \n",
    "# The benefit is that the with statement opens a context manager in the background \n",
    "#     such that as soon as you finish this code block, \n",
    "#     the context manager will close your file for you.\n",
    "\n",
    "\n",
    "with open('misc.json', 'w') as fout:    \n",
    "    json.dump(data, fout, skipkeys=True)\n"
   ]
  },
  {
   "cell_type": "code",
   "execution_count": 16,
   "metadata": {
    "collapsed": true
   },
   "outputs": [
    {
     "data": {
      "text/plain": [
       "\u001b[0;34m{\u001b[0m\u001b[0;34m\"a list\"\u001b[0m\u001b[0;34m:\u001b[0m \u001b[0;34m[\u001b[0m\u001b[0;36m1\u001b[0m\u001b[0;34m,\u001b[0m \u001b[0;36m42\u001b[0m\u001b[0;34m,\u001b[0m \u001b[0;36m3.141\u001b[0m\u001b[0;34m,\u001b[0m \u001b[0;36m1337\u001b[0m\u001b[0;34m,\u001b[0m \u001b[0;34m\"help\"\u001b[0m\u001b[0;34m,\u001b[0m \u001b[0;34m\"\\u20ac\"\u001b[0m\u001b[0;34m]\u001b[0m\u001b[0;34m,\u001b[0m \u001b[0;34m\"a string\"\u001b[0m\u001b[0;34m:\u001b[0m \u001b[0;34m\"bla\"\u001b[0m\u001b[0;34m,\u001b[0m \u001b[0;34m\"another dict\"\u001b[0m\u001b[0;34m:\u001b[0m \u001b[0;34m{\u001b[0m\u001b[0;34m\"foo\"\u001b[0m\u001b[0;34m:\u001b[0m \u001b[0;34m\"bar\"\u001b[0m\u001b[0;34m,\u001b[0m \u001b[0;34m\"key\"\u001b[0m\u001b[0;34m:\u001b[0m \u001b[0;34m\"value\"\u001b[0m\u001b[0;34m,\u001b[0m \u001b[0;34m\"the answer\"\u001b[0m\u001b[0;34m:\u001b[0m \u001b[0;36m42\u001b[0m\u001b[0;34m}\u001b[0m\u001b[0;34m}\u001b[0m\u001b[0;34m\u001b[0m\u001b[0m\n"
      ]
     },
     "metadata": {},
     "output_type": "display_data"
    }
   ],
   "source": [
    "# go look at misc.json\n",
    "%pycat misc.json"
   ]
  },
  {
   "cell_type": "code",
   "execution_count": 17,
   "metadata": {
    "collapsed": true
   },
   "outputs": [],
   "source": [
    "with open('misc_neat.json', 'w') as fout:\n",
    "    json.dump(data, fout,\n",
    "              indent=4, \n",
    "              sort_keys=True,\n",
    "              separators=(',', ': '), \n",
    "              ensure_ascii=False)\n"
   ]
  },
  {
   "cell_type": "code",
   "execution_count": 18,
   "metadata": {
    "collapsed": true
   },
   "outputs": [
    {
     "data": {
      "text/plain": [
       "\u001b[0;34m{\u001b[0m\u001b[0;34m\u001b[0m\n",
       "\u001b[0;34m\u001b[0m    \u001b[0;34m\"a list\"\u001b[0m\u001b[0;34m:\u001b[0m \u001b[0;34m[\u001b[0m\u001b[0;34m\u001b[0m\n",
       "\u001b[0;34m\u001b[0m        \u001b[0;36m1\u001b[0m\u001b[0;34m,\u001b[0m\u001b[0;34m\u001b[0m\n",
       "\u001b[0;34m\u001b[0m        \u001b[0;36m42\u001b[0m\u001b[0;34m,\u001b[0m\u001b[0;34m\u001b[0m\n",
       "\u001b[0;34m\u001b[0m        \u001b[0;36m3.141\u001b[0m\u001b[0;34m,\u001b[0m\u001b[0;34m\u001b[0m\n",
       "\u001b[0;34m\u001b[0m        \u001b[0;36m1337\u001b[0m\u001b[0;34m,\u001b[0m\u001b[0;34m\u001b[0m\n",
       "\u001b[0;34m\u001b[0m        \u001b[0;34m\"help\"\u001b[0m\u001b[0;34m,\u001b[0m\u001b[0;34m\u001b[0m\n",
       "\u001b[0;34m\u001b[0m        \u001b[0;34m\"€\"\u001b[0m\u001b[0;34m\u001b[0m\n",
       "\u001b[0;34m\u001b[0m    \u001b[0;34m]\u001b[0m\u001b[0;34m,\u001b[0m\u001b[0;34m\u001b[0m\n",
       "\u001b[0;34m\u001b[0m    \u001b[0;34m\"a string\"\u001b[0m\u001b[0;34m:\u001b[0m \u001b[0;34m\"bla\"\u001b[0m\u001b[0;34m,\u001b[0m\u001b[0;34m\u001b[0m\n",
       "\u001b[0;34m\u001b[0m    \u001b[0;34m\"another dict\"\u001b[0m\u001b[0;34m:\u001b[0m \u001b[0;34m{\u001b[0m\u001b[0;34m\u001b[0m\n",
       "\u001b[0;34m\u001b[0m        \u001b[0;34m\"foo\"\u001b[0m\u001b[0;34m:\u001b[0m \u001b[0;34m\"bar\"\u001b[0m\u001b[0;34m,\u001b[0m\u001b[0;34m\u001b[0m\n",
       "\u001b[0;34m\u001b[0m        \u001b[0;34m\"key\"\u001b[0m\u001b[0;34m:\u001b[0m \u001b[0;34m\"value\"\u001b[0m\u001b[0;34m,\u001b[0m\u001b[0;34m\u001b[0m\n",
       "\u001b[0;34m\u001b[0m        \u001b[0;34m\"the answer\"\u001b[0m\u001b[0;34m:\u001b[0m \u001b[0;36m42\u001b[0m\u001b[0;34m\u001b[0m\n",
       "\u001b[0;34m\u001b[0m    \u001b[0;34m}\u001b[0m\u001b[0;34m\u001b[0m\n",
       "\u001b[0;34m\u001b[0m\u001b[0;34m}\u001b[0m\u001b[0;34m\u001b[0m\u001b[0m\n"
      ]
     },
     "metadata": {},
     "output_type": "display_data"
    }
   ],
   "source": [
    "# go look at misc_neat.json\n",
    "%pycat misc_neat.json"
   ]
  },
  {
   "cell_type": "code",
   "execution_count": 19,
   "metadata": {
    "collapsed": true
   },
   "outputs": [
    {
     "data": {
      "text/plain": [
       "\u001b[0;31mSignature:\u001b[0m \u001b[0mjson\u001b[0m\u001b[0;34m.\u001b[0m\u001b[0mdump\u001b[0m\u001b[0;34m(\u001b[0m\u001b[0mobj\u001b[0m\u001b[0;34m,\u001b[0m \u001b[0mfp\u001b[0m\u001b[0;34m,\u001b[0m \u001b[0;34m*\u001b[0m\u001b[0;34m,\u001b[0m \u001b[0mskipkeys\u001b[0m\u001b[0;34m=\u001b[0m\u001b[0;32mFalse\u001b[0m\u001b[0;34m,\u001b[0m \u001b[0mensure_ascii\u001b[0m\u001b[0;34m=\u001b[0m\u001b[0;32mTrue\u001b[0m\u001b[0;34m,\u001b[0m \u001b[0mcheck_circular\u001b[0m\u001b[0;34m=\u001b[0m\u001b[0;32mTrue\u001b[0m\u001b[0;34m,\u001b[0m \u001b[0mallow_nan\u001b[0m\u001b[0;34m=\u001b[0m\u001b[0;32mTrue\u001b[0m\u001b[0;34m,\u001b[0m \u001b[0mcls\u001b[0m\u001b[0;34m=\u001b[0m\u001b[0;32mNone\u001b[0m\u001b[0;34m,\u001b[0m \u001b[0mindent\u001b[0m\u001b[0;34m=\u001b[0m\u001b[0;32mNone\u001b[0m\u001b[0;34m,\u001b[0m \u001b[0mseparators\u001b[0m\u001b[0;34m=\u001b[0m\u001b[0;32mNone\u001b[0m\u001b[0;34m,\u001b[0m \u001b[0mdefault\u001b[0m\u001b[0;34m=\u001b[0m\u001b[0;32mNone\u001b[0m\u001b[0;34m,\u001b[0m \u001b[0msort_keys\u001b[0m\u001b[0;34m=\u001b[0m\u001b[0;32mFalse\u001b[0m\u001b[0;34m,\u001b[0m \u001b[0;34m**\u001b[0m\u001b[0mkw\u001b[0m\u001b[0;34m)\u001b[0m\u001b[0;34m\u001b[0m\u001b[0m\n",
       "\u001b[0;31mDocstring:\u001b[0m\n",
       "Serialize ``obj`` as a JSON formatted stream to ``fp`` (a\n",
       "``.write()``-supporting file-like object).\n",
       "\n",
       "If ``skipkeys`` is true then ``dict`` keys that are not basic types\n",
       "(``str``, ``int``, ``float``, ``bool``, ``None``) will be skipped\n",
       "instead of raising a ``TypeError``.\n",
       "\n",
       "If ``ensure_ascii`` is false, then the strings written to ``fp`` can\n",
       "contain non-ASCII characters if they appear in strings contained in\n",
       "``obj``. Otherwise, all such characters are escaped in JSON strings.\n",
       "\n",
       "If ``check_circular`` is false, then the circular reference check\n",
       "for container types will be skipped and a circular reference will\n",
       "result in an ``OverflowError`` (or worse).\n",
       "\n",
       "If ``allow_nan`` is false, then it will be a ``ValueError`` to\n",
       "serialize out of range ``float`` values (``nan``, ``inf``, ``-inf``)\n",
       "in strict compliance of the JSON specification, instead of using the\n",
       "JavaScript equivalents (``NaN``, ``Infinity``, ``-Infinity``).\n",
       "\n",
       "If ``indent`` is a non-negative integer, then JSON array elements and\n",
       "object members will be pretty-printed with that indent level. An indent\n",
       "level of 0 will only insert newlines. ``None`` is the most compact\n",
       "representation.\n",
       "\n",
       "If specified, ``separators`` should be an ``(item_separator, key_separator)``\n",
       "tuple.  The default is ``(', ', ': ')`` if *indent* is ``None`` and\n",
       "``(',', ': ')`` otherwise.  To get the most compact JSON representation,\n",
       "you should specify ``(',', ':')`` to eliminate whitespace.\n",
       "\n",
       "``default(obj)`` is a function that should return a serializable version\n",
       "of obj or raise TypeError. The default simply raises TypeError.\n",
       "\n",
       "If *sort_keys* is true (default: ``False``), then the output of\n",
       "dictionaries will be sorted by key.\n",
       "\n",
       "To use a custom ``JSONEncoder`` subclass (e.g. one that overrides the\n",
       "``.default()`` method to serialize additional types), specify it with\n",
       "the ``cls`` kwarg; otherwise ``JSONEncoder`` is used.\n",
       "\u001b[0;31mFile:\u001b[0m      ~/miniconda3/envs/darkartenv/lib/python3.7/json/__init__.py\n",
       "\u001b[0;31mType:\u001b[0m      function\n"
      ]
     },
     "metadata": {},
     "output_type": "display_data"
    }
   ],
   "source": [
    "# Let's look more closely at the dump method...\n",
    "\n",
    "json.dump?"
   ]
  },
  {
   "cell_type": "markdown",
   "metadata": {},
   "source": [
    "# a real world example\n",
    "---"
   ]
  },
  {
   "cell_type": "markdown",
   "metadata": {},
   "source": [
    "### Sample data from long_stocks.json:\n",
    "\n",
    "Simple dictionary with strings as keys and lists as values.\n",
    "\n",
    "* each key is a stock symbol\n",
    "* each value is a list of prices over time\n",
    "* each of the lists can be quite long\n",
    "\n",
    "```{\"NKO\": [\"13.53\", \"13.52\", \"13.55\", ..., \"8.98\", \"9.05\"],\n",
    " \"NVY\": [...],\n",
    " ...\n",
    " \"NWD\": [...]}\n",
    "```"
   ]
  },
  {
   "cell_type": "code",
   "execution_count": 20,
   "metadata": {
    "collapsed": true
   },
   "outputs": [],
   "source": [
    "with open('long_stocks.json') as inputfile:\n",
    "    prices = json.load(inputfile)\n",
    "\n",
    "    select_stock = {}\n",
    "    for stock in prices:\n",
    "        for price in prices[stock]:\n",
    "            num_price = float(price)\n",
    "            if num_price > 20.0:\n",
    "                select_stock[stock] = select_stock.get(stock, []) + [price]\n",
    "                "
   ]
  },
  {
   "cell_type": "code",
   "execution_count": 21,
   "metadata": {},
   "outputs": [
    {
     "data": {
      "text/plain": [
       "dict_keys(['NKO', 'NVY', 'NOX', 'NBO', 'NBJ', 'NEA', 'NHR', 'NWD', 'NRK', 'NVJ', 'NZX', 'NZR', 'NFO', 'NAK', 'NLP', 'NXI', 'NXJ', 'NBY', 'NZW', 'NRO', 'NKR', 'NOM', 'NBW', 'NXK', 'NLR', 'NMB', 'NGS', 'NUJ', 'NVR', 'NFZ', 'NSU', 'NZF', 'NXG', 'NNO', 'NGK', 'NMZ', 'NNB', 'NVG', 'NKX', 'NTN', 'NOG', 'NVD', 'NGO', 'NWF', 'NCU', 'NJV', 'NXZ', 'NBH', 'NYF', 'NEN', 'NKL', 'NCB', 'NFM', 'NZH', 'NEP', 'NGB', 'NXM', 'NOW', 'NYV', 'NKG', 'NRB', 'NGD', 'NWI', 'NII', 'NYH', 'NXE', 'NGX', 'NBS', 'NPG', 'NPS', 'NIV', 'NDD', 'NVX', 'NPN', 'NG', 'NFC', 'NHC'])"
      ]
     },
     "execution_count": 21,
     "metadata": {},
     "output_type": "execute_result"
    }
   ],
   "source": [
    "# Let's take a look at all the stocks from the file\n",
    "\n",
    "prices.keys()"
   ]
  },
  {
   "cell_type": "code",
   "execution_count": 22,
   "metadata": {},
   "outputs": [
    {
     "data": {
      "text/plain": [
       "dict_keys(['NFO', 'NLR', 'NGS', 'NVR', 'NYF', 'NEN', 'NDD', 'NG', 'NHC'])"
      ]
     },
     "execution_count": 22,
     "metadata": {},
     "output_type": "execute_result"
    }
   ],
   "source": [
    "# Now, let's take a look at all the stocks that had prices\n",
    "#     that exceeded the minimum value at least once...\n",
    "\n",
    "select_stock.keys()"
   ]
  },
  {
   "cell_type": "code",
   "execution_count": 23,
   "metadata": {},
   "outputs": [
    {
     "data": {
      "text/plain": [
       "['682.93',\n",
       " '508.15',\n",
       " '522.86',\n",
       " '517.25',\n",
       " '621.89',\n",
       " '754.99',\n",
       " '724.75',\n",
       " '492.77',\n",
       " '473.50',\n",
       " '324.99',\n",
       " '295.50',\n",
       " '195.70',\n",
       " '60.25',\n",
       " '53.87',\n",
       " '43.50',\n",
       " '32.50',\n",
       " '36.39',\n",
       " '29.94']"
      ]
     },
     "execution_count": 23,
     "metadata": {},
     "output_type": "execute_result"
    }
   ],
   "source": [
    "# If we want to get a sample of the values for a particular stock, \n",
    "#     since the collection of values is a list, we can step \n",
    "#     over the values using slicing. \n",
    "# Here we step by 200, to look at every 200th price.\n",
    "\n",
    "select_stock['NVR'][::200]"
   ]
  },
  {
   "cell_type": "code",
   "execution_count": 24,
   "metadata": {},
   "outputs": [
    {
     "name": "stdout",
     "output_type": "stream",
     "text": [
      "NFO 696\n",
      "NLR 496\n",
      "NGS 257\n",
      "NVR 3580\n",
      "NYF 586\n",
      "NEN 2227\n",
      "NDD 573\n",
      "NG 9\n",
      "NHC 2341\n"
     ]
    }
   ],
   "source": [
    "# To find out how many times the price exceeded 20.0 for each\n",
    "#     of our stocks, we can calculate the length\n",
    "#     of the value.\n",
    "\n",
    "for stock in select_stock:\n",
    "    print(stock, len(select_stock[stock]))"
   ]
  },
  {
   "cell_type": "code",
   "execution_count": 25,
   "metadata": {
    "collapsed": true
   },
   "outputs": [],
   "source": [
    "with open('prices.json', 'w') as outputfile:\n",
    "    json.dump(select_stock, outputfile,\n",
    "             indent=4)"
   ]
  },
  {
   "cell_type": "markdown",
   "metadata": {},
   "source": [
    "# Experience Points!\n",
    "---"
   ]
  },
  {
   "cell_type": "markdown",
   "metadata": {},
   "source": [
    "In your **text editor** create a simple script called:\n",
    "\n",
    "```bash\n",
    "my_json_01.py```\n",
    "\n",
    "Execute your script in the **IPython interpreter** using the command:\n",
    "\n",
    "```bash\n",
    "run my_json_01.py```\n",
    "\n",
    "I suggest that as you add each feature to your script that you run it right away to test it incrementally. \n",
    "\n",
    "1. Open the `data.json` file.\n",
    "1. Load the json\n",
    "1. Check whether the string `13.37` is present in association with the stock `NVY`.\n",
    "1. IF yes, then print the `index` of the string `13.37` AND print the value at that index to confirm that it really is `13.37`.\n"
   ]
  },
  {
   "cell_type": "markdown",
   "metadata": {},
   "source": [
    "When you complete this exercise, please put your green post-it on your monitor. \n",
    "\n",
    "If you want to continue on at your own-pace, please feel free to do so.\n",
    "\n",
    "<img src='../images/green_sticky.300px.png' width='200' style='float:left'>"
   ]
  },
  {
   "cell_type": "markdown",
   "metadata": {},
   "source": [
    "# Experience Points!\n",
    "---"
   ]
  },
  {
   "cell_type": "markdown",
   "metadata": {
    "slideshow": {
     "slide_type": "slide"
    }
   },
   "source": [
    "In your **text editor** create a simple script called:\n",
    "\n",
    "```bash\n",
    "my_json_02.py```\n",
    "\n",
    "Execute your script in the **IPython interpreter** using the command:\n",
    "\n",
    "```bash\n",
    "run my_json_02.py```\n",
    "\n",
    "1. Read in the data from the `AMEX_daily_prices_N.csv`\n",
    "1. Record that data in a dictionary for all stocks that have an 'X' in the name ('NOX', 'NXJ', and all the rest) such that:\n",
    "    * the `key` is the stock symbol \n",
    "    * the `values` are the list of closing prices    \n",
    "1. Once you have generated a dictionary of lists, store them as json in a file called `x_stocks.json`, ensuring:\n",
    "    * the elements are indented 4 spaces\n",
    "    * the dictionary keys are sorted"
   ]
  },
  {
   "cell_type": "markdown",
   "metadata": {},
   "source": [
    "When you complete this exercise, please put your green post-it on your monitor. \n",
    "\n",
    "If you want to continue on at your own-pace, please feel free to do so.\n",
    "\n",
    "<img src='../images/green_sticky.300px.png' width='200' style='float:left'>"
   ]
  },
  {
   "cell_type": "markdown",
   "metadata": {},
   "source": [
    "# Backup/Miscellaneous...\n",
    "---"
   ]
  },
  {
   "cell_type": "code",
   "execution_count": null,
   "metadata": {},
   "outputs": [],
   "source": []
  }
 ],
 "metadata": {
  "kernelspec": {
   "display_name": "Python 3",
   "language": "python",
   "name": "python3"
  },
  "language_info": {
   "codemirror_mode": {
    "name": "ipython",
    "version": 3
   },
   "file_extension": ".py",
   "mimetype": "text/x-python",
   "name": "python",
   "nbconvert_exporter": "python",
   "pygments_lexer": "ipython3",
   "version": "3.7.0"
  }
 },
 "nbformat": 4,
 "nbformat_minor": 2
}
